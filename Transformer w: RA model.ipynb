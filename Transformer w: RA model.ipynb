{
 "cells": [
  {
   "cell_type": "code",
   "execution_count": 1,
   "id": "7fd3adb6-da0c-4e2b-b027-d6e207123c25",
   "metadata": {},
   "outputs": [
    {
     "name": "stdout",
     "output_type": "stream",
     "text": [
      "Looking in indexes: https://nexus.isb/repository/pypiorg-pypi-proxy/simple, https://nexus.isb/repository/deml-prod-pypi-hosted/simple\n",
      "Requirement already satisfied: delu in /opt/pip_base/lib/python3.10/site-packages (0.0.26)\n",
      "Requirement already satisfied: rtdl_revisiting_models in /opt/pip_base/lib/python3.10/site-packages (0.0.2)\n",
      "Requirement already satisfied: torch<3,>=1.9 in /opt/pip_base/lib/python3.10/site-packages (from delu) (2.6.0+cu124)\n",
      "Requirement already satisfied: numpy<3,>=1.21 in /opt/pip_base/lib/python3.10/site-packages (from delu) (1.26.4)\n",
      "Requirement already satisfied: nvidia-cuda-runtime-cu12==12.4.127 in /opt/pip_base/lib/python3.10/site-packages (from torch<3,>=1.9->delu) (12.4.127)\n",
      "Requirement already satisfied: nvidia-nvtx-cu12==12.4.127 in /opt/pip_base/lib/python3.10/site-packages (from torch<3,>=1.9->delu) (12.4.127)\n",
      "Requirement already satisfied: triton==3.2.0 in /opt/pip_base/lib/python3.10/site-packages (from torch<3,>=1.9->delu) (3.2.0)\n",
      "Requirement already satisfied: nvidia-cusparse-cu12==12.3.1.170 in /opt/pip_base/lib/python3.10/site-packages (from torch<3,>=1.9->delu) (12.3.1.170)\n",
      "Requirement already satisfied: fsspec in /opt/pip_base/lib/python3.10/site-packages (from torch<3,>=1.9->delu) (2025.3.0)\n",
      "Requirement already satisfied: jinja2 in /opt/pip_base/lib/python3.10/site-packages (from torch<3,>=1.9->delu) (3.1.4)\n",
      "Requirement already satisfied: sympy==1.13.1 in /opt/pip_base/lib/python3.10/site-packages (from torch<3,>=1.9->delu) (1.13.1)\n",
      "Requirement already satisfied: filelock in /opt/pip_base/lib/python3.10/site-packages (from torch<3,>=1.9->delu) (3.18.0)\n",
      "Requirement already satisfied: nvidia-nccl-cu12==2.21.5 in /opt/pip_base/lib/python3.10/site-packages (from torch<3,>=1.9->delu) (2.21.5)\n",
      "Requirement already satisfied: nvidia-cufft-cu12==11.2.1.3 in /opt/pip_base/lib/python3.10/site-packages (from torch<3,>=1.9->delu) (11.2.1.3)\n",
      "Requirement already satisfied: nvidia-cuda-nvrtc-cu12==12.4.127 in /opt/pip_base/lib/python3.10/site-packages (from torch<3,>=1.9->delu) (12.4.127)\n",
      "Requirement already satisfied: typing-extensions>=4.10.0 in /opt/pip_base/lib/python3.10/site-packages (from torch<3,>=1.9->delu) (4.12.2)\n",
      "Requirement already satisfied: nvidia-curand-cu12==10.3.5.147 in /opt/pip_base/lib/python3.10/site-packages (from torch<3,>=1.9->delu) (10.3.5.147)\n",
      "Requirement already satisfied: nvidia-cusparselt-cu12==0.6.2 in /opt/pip_base/lib/python3.10/site-packages (from torch<3,>=1.9->delu) (0.6.2)\n",
      "Requirement already satisfied: nvidia-cusolver-cu12==11.6.1.9 in /opt/pip_base/lib/python3.10/site-packages (from torch<3,>=1.9->delu) (11.6.1.9)\n",
      "Requirement already satisfied: networkx in /opt/pip_base/lib/python3.10/site-packages (from torch<3,>=1.9->delu) (3.4.2)\n",
      "Requirement already satisfied: nvidia-cudnn-cu12==9.1.0.70 in /opt/pip_base/lib/python3.10/site-packages (from torch<3,>=1.9->delu) (9.1.0.70)\n",
      "Requirement already satisfied: nvidia-cuda-cupti-cu12==12.4.127 in /opt/pip_base/lib/python3.10/site-packages (from torch<3,>=1.9->delu) (12.4.127)\n",
      "Requirement already satisfied: nvidia-cublas-cu12==12.4.5.8 in /opt/pip_base/lib/python3.10/site-packages (from torch<3,>=1.9->delu) (12.4.5.8)\n",
      "Requirement already satisfied: nvidia-nvjitlink-cu12==12.4.127 in /opt/pip_base/lib/python3.10/site-packages (from torch<3,>=1.9->delu) (12.4.127)\n",
      "Requirement already satisfied: mpmath<1.4,>=1.1.0 in /opt/pip_base/lib/python3.10/site-packages (from sympy==1.13.1->torch<3,>=1.9->delu) (1.3.0)\n",
      "Requirement already satisfied: MarkupSafe>=2.0 in /opt/pip_base/lib/python3.10/site-packages (from jinja2->torch<3,>=1.9->delu) (3.0.2)\n"
     ]
    }
   ],
   "source": [
    "!pip install delu rtdl_revisiting_models"
   ]
  },
  {
   "cell_type": "code",
   "execution_count": 2,
   "id": "623efc75-5c3a-4e61-ad33-b4eb0e43848f",
   "metadata": {},
   "outputs": [
    {
     "name": "stdout",
     "output_type": "stream",
     "text": [
      "Looking in indexes: https://nexus.isb/repository/pypiorg-pypi-proxy/simple, https://nexus.isb/repository/deml-prod-pypi-hosted/simple\n",
      "Requirement already satisfied: torch in /opt/pip_base/lib/python3.10/site-packages (2.6.0+cu124)\n",
      "Requirement already satisfied: torchvision in /opt/pip_base/lib/python3.10/site-packages (0.21.0+cu124)\n",
      "Requirement already satisfied: torchaudio in /opt/pip_base/lib/python3.10/site-packages (2.6.0+cu124)\n",
      "Requirement already satisfied: nvidia-curand-cu12==10.3.5.147 in /opt/pip_base/lib/python3.10/site-packages (from torch) (10.3.5.147)\n",
      "Requirement already satisfied: nvidia-nccl-cu12==2.21.5 in /opt/pip_base/lib/python3.10/site-packages (from torch) (2.21.5)\n",
      "Requirement already satisfied: triton==3.2.0 in /opt/pip_base/lib/python3.10/site-packages (from torch) (3.2.0)\n",
      "Requirement already satisfied: nvidia-cufft-cu12==11.2.1.3 in /opt/pip_base/lib/python3.10/site-packages (from torch) (11.2.1.3)\n",
      "Requirement already satisfied: typing-extensions>=4.10.0 in /opt/pip_base/lib/python3.10/site-packages (from torch) (4.12.2)\n",
      "Requirement already satisfied: sympy==1.13.1 in /opt/pip_base/lib/python3.10/site-packages (from torch) (1.13.1)\n",
      "Requirement already satisfied: nvidia-cuda-runtime-cu12==12.4.127 in /opt/pip_base/lib/python3.10/site-packages (from torch) (12.4.127)\n",
      "Requirement already satisfied: networkx in /opt/pip_base/lib/python3.10/site-packages (from torch) (3.4.2)\n",
      "Requirement already satisfied: nvidia-nvtx-cu12==12.4.127 in /opt/pip_base/lib/python3.10/site-packages (from torch) (12.4.127)\n",
      "Requirement already satisfied: fsspec in /opt/pip_base/lib/python3.10/site-packages (from torch) (2025.3.0)\n",
      "Requirement already satisfied: nvidia-cuda-cupti-cu12==12.4.127 in /opt/pip_base/lib/python3.10/site-packages (from torch) (12.4.127)\n",
      "Requirement already satisfied: nvidia-cusparse-cu12==12.3.1.170 in /opt/pip_base/lib/python3.10/site-packages (from torch) (12.3.1.170)\n",
      "Requirement already satisfied: nvidia-cublas-cu12==12.4.5.8 in /opt/pip_base/lib/python3.10/site-packages (from torch) (12.4.5.8)\n",
      "Requirement already satisfied: nvidia-cuda-nvrtc-cu12==12.4.127 in /opt/pip_base/lib/python3.10/site-packages (from torch) (12.4.127)\n",
      "Requirement already satisfied: jinja2 in /opt/pip_base/lib/python3.10/site-packages (from torch) (3.1.4)\n",
      "Requirement already satisfied: nvidia-nvjitlink-cu12==12.4.127 in /opt/pip_base/lib/python3.10/site-packages (from torch) (12.4.127)\n",
      "Requirement already satisfied: nvidia-cusolver-cu12==11.6.1.9 in /opt/pip_base/lib/python3.10/site-packages (from torch) (11.6.1.9)\n",
      "Requirement already satisfied: filelock in /opt/pip_base/lib/python3.10/site-packages (from torch) (3.18.0)\n",
      "Requirement already satisfied: nvidia-cusparselt-cu12==0.6.2 in /opt/pip_base/lib/python3.10/site-packages (from torch) (0.6.2)\n",
      "Requirement already satisfied: nvidia-cudnn-cu12==9.1.0.70 in /opt/pip_base/lib/python3.10/site-packages (from torch) (9.1.0.70)\n",
      "Requirement already satisfied: mpmath<1.4,>=1.1.0 in /opt/pip_base/lib/python3.10/site-packages (from sympy==1.13.1->torch) (1.3.0)\n",
      "Requirement already satisfied: pillow!=8.3.*,>=5.3.0 in /opt/pip_base/lib/python3.10/site-packages (from torchvision) (11.1.0)\n",
      "Requirement already satisfied: numpy in /opt/pip_base/lib/python3.10/site-packages (from torchvision) (1.26.4)\n",
      "Requirement already satisfied: MarkupSafe>=2.0 in /opt/pip_base/lib/python3.10/site-packages (from jinja2->torch) (3.0.2)\n"
     ]
    }
   ],
   "source": [
    "!pip install torch torchvision torchaudio"
   ]
  },
  {
   "cell_type": "code",
   "execution_count": 3,
   "id": "9f5bf1b3-4666-4962-a910-990175d76388",
   "metadata": {},
   "outputs": [],
   "source": [
    "import pandas as pd\n",
    "import numpy as np\n",
    "import math\n",
    "import matplotlib.pyplot as plt\n",
    "\n",
    "from sklearn.preprocessing import LabelEncoder\n",
    "from sklearn.preprocessing import StandardScaler\n",
    "\n",
    "pd.set_option('display.max_rows', None)\n",
    "pd.set_option('display.max_columns', None)\n",
    "\n",
    "import delu\n",
    "from rtdl_revisiting_models import FTTransformer\n",
    "\n",
    "from tqdm.std import tqdm\n",
    "\n",
    "import torch\n",
    "import torch.nn as nn\n",
    "import torch.optim as optim\n",
    "from torch.utils.data import TensorDataset, DataLoader, Dataset\n",
    "from functools import partial\n",
    "import sklearn.model_selection\n",
    "import sklearn.preprocessing\n",
    "from sklearn.metrics import roc_auc_score, recall_score, precision_score, confusion_matrix, f1_score\n",
    "\n",
    "pd.set_option('display.max_columns', 500)\n",
    "pd.set_option('display.max_rows', 100)\n",
    "pd.set_option('max_colwidth', 500)"
   ]
  },
  {
   "cell_type": "code",
   "execution_count": 4,
   "id": "97488947-7046-4fc7-b705-a373dcbb5fe3",
   "metadata": {},
   "outputs": [],
   "source": [
    "device = torch.device(\"cuda\" if torch.cuda.is_available() else \"cpu\")"
   ]
  },
  {
   "cell_type": "markdown",
   "id": "3496e1fd-3c82-451a-b18b-717080e60f9b",
   "metadata": {},
   "source": [
    "### === Готовим данные для модели ==="
   ]
  },
  {
   "cell_type": "code",
   "execution_count": 5,
   "id": "9310c00d-d740-443c-a08e-89c4eca98a37",
   "metadata": {},
   "outputs": [],
   "source": [
    "df = pd.read_csv('iar_hse_data.csv')\n",
    "df.head()\n",
    "\n",
    "y = df[['target']]\n",
    "X = df.drop(columns=['target'])"
   ]
  },
  {
   "cell_type": "code",
   "execution_count": 6,
   "id": "475dcf54-2da4-4c8b-ac14-91df28900a75",
   "metadata": {},
   "outputs": [],
   "source": [
    "X_cat = X.select_dtypes(include=['object'])\n",
    "\n",
    "X_cat = X_cat.apply(LabelEncoder().fit_transform)\n",
    "\n",
    "X_float = X.select_dtypes(include=['float'])\n",
    "X_int_float = X.select_dtypes(include=['int64']).astype(np.float32)\n",
    "X_float = pd.concat([X_float, X_int_float], axis=1)\n",
    "X_float = X_float.astype(np.float32)\n",
    "\n",
    "float_features_cnt = X_float.shape[1]\n",
    "cat_features_card = [X_cat[x].nunique() for x in X_cat.columns]\n",
    "\n",
    "y = y.astype('float')"
   ]
  },
  {
   "cell_type": "code",
   "execution_count": 7,
   "id": "e1405976-10d5-41b2-9833-5192b791b9df",
   "metadata": {},
   "outputs": [],
   "source": [
    "X_float = X_float.to_numpy()\n",
    "X_cat = X_cat.to_numpy()\n",
    "y = y.to_numpy()\n",
    "y = y[:, 0]"
   ]
  },
  {
   "cell_type": "code",
   "execution_count": 8,
   "id": "8f1608ee-2ca7-449d-ba22-9f90d947fa41",
   "metadata": {},
   "outputs": [],
   "source": [
    "n = len(df)\n",
    "train_end = int(0.7 * n)\n",
    "val_end = int(0.85 * n)\n",
    "\n",
    "train_idx = np.arange(0, train_end)\n",
    "val_idx = np.arange(train_end, val_end)\n",
    "test_idx = np.arange(val_end, n)"
   ]
  },
  {
   "cell_type": "code",
   "execution_count": 9,
   "id": "7ed35822-f1d5-470e-a3cd-e767ec66c890",
   "metadata": {},
   "outputs": [],
   "source": [
    "data = {\n",
    "    'train' : {'x_float':X_float[train_idx], 'x_cat':X_cat[train_idx], 'y':y[train_idx]},\n",
    "    'val' : {'x_float':X_float[val_idx], 'x_cat':X_cat[val_idx], 'y':y[val_idx]},\n",
    "    'test' : {'x_float':X_float[test_idx], 'x_cat':X_cat[test_idx], 'y':y[test_idx]}\n",
    "}"
   ]
  },
  {
   "cell_type": "code",
   "execution_count": 10,
   "id": "35accc19-db3c-41ac-b150-8d90736bc3f3",
   "metadata": {},
   "outputs": [],
   "source": [
    "preprocessing = sklearn.preprocessing.StandardScaler().fit(data['train']['x_float'])\n",
    "\n",
    "for object in data:\n",
    "    data[object]['x_float'] = preprocessing.transform(data[object]['x_float'])"
   ]
  },
  {
   "cell_type": "code",
   "execution_count": 11,
   "id": "76e1e2ae-7845-444e-aedd-8ff341c37cac",
   "metadata": {},
   "outputs": [],
   "source": [
    "tensors = {\n",
    "    object: {k: torch.as_tensor(v, device=device) for k, v in data[object].items()} for object in data\n",
    "}"
   ]
  },
  {
   "cell_type": "markdown",
   "id": "cf488d72-4aa7-4ad6-8deb-41d111dc3240",
   "metadata": {},
   "source": [
    "### === Модель трансформера с row attention ==="
   ]
  },
  {
   "cell_type": "code",
   "execution_count": 12,
   "id": "1ed44270-eae5-4ea6-8e53-cd2aab4a0ee3",
   "metadata": {},
   "outputs": [],
   "source": [
    "class FeatureTokenizer(nn.Module):\n",
    "    def __init__(self, n_cont_features, cat_cardinalities, embed_dim):\n",
    "        super().__init__()\n",
    "        self.cont_embedding = nn.Linear(1, embed_dim)\n",
    "        self.cat_embeddings = nn.ModuleList([\n",
    "            nn.Embedding(cardinality, embed_dim) for cardinality in cat_cardinalities\n",
    "                                            ])\n",
    "        self.n_cont_features = n_cont_features\n",
    "\n",
    "    def forward(self, x_cont, x_cat):\n",
    "        #континууальные признаки в эмбеддинги\n",
    "        x_cont = x_cont.unsqueeze(-1) \n",
    "        x_cont = self.cont_embedding(x_cont)\n",
    "\n",
    "        #категориальные — эмбеддинг каждого признака\n",
    "        cat_embeds = [embed(x_cat[:, i]) for i, embed in enumerate(self.cat_embeddings)]\n",
    "        x_cat = torch.stack(cat_embeds, dim=1)\n",
    "\n",
    "        return torch.cat([x_cont, x_cat], dim=1)"
   ]
  },
  {
   "cell_type": "code",
   "execution_count": 13,
   "id": "bacda3ba-1130-499f-a8ea-9ee48808f324",
   "metadata": {},
   "outputs": [],
   "source": [
    "class RowAttention(nn.Module):\n",
    "    def __init__(self, d_model, n_heads):\n",
    "        super().__init__()\n",
    "        self.attn = nn.MultiheadAttention(d_model, n_heads, batch_first=True)\n",
    "\n",
    "    def forward(self, x):\n",
    "        x_t = x.transpose(0, 1)\n",
    "        x_t, _ = self.attn(x_t, x_t, x_t)\n",
    "        return x_t.transpose(0, 1)"
   ]
  },
  {
   "cell_type": "code",
   "execution_count": 14,
   "id": "9f5e8dbf-1f78-4e42-a13c-9ee9f83c140d",
   "metadata": {},
   "outputs": [],
   "source": [
    "class TransformerWithRowAttention(nn.Module):\n",
    "    def __init__(self, n_cont_features, cat_cardinalities, d_out, embed_dim=128, n_heads=8):\n",
    "        super().__init__()\n",
    "        self.tokenizer = FeatureTokenizer(n_cont_features, cat_cardinalities, embed_dim)\n",
    "        self.row_attn = RowAttention(embed_dim, n_heads)\n",
    "        self.transformer = nn.TransformerEncoder(\n",
    "            nn.TransformerEncoderLayer(d_model=embed_dim, nhead=n_heads, batch_first=True),\n",
    "            num_layers=2\n",
    "        )\n",
    "        self.head = nn.Linear(embed_dim, d_out)\n",
    "\n",
    "    def forward(self, x_cont, x_cat):\n",
    "        x = self.tokenizer(x_cont, x_cat)\n",
    "        x = self.row_attn(x)              \n",
    "        x = self.transformer(x)           \n",
    "        x = x.mean(dim=1)                \n",
    "        return self.head(x).squeeze(-1)  "
   ]
  },
  {
   "cell_type": "code",
   "execution_count": 17,
   "id": "25ac9d31-243a-4e55-bada-29cb5383692a",
   "metadata": {},
   "outputs": [],
   "source": [
    "model = TransformerWithRowAttention(\n",
    "    n_cont_features=float_features_cnt,\n",
    "    cat_cardinalities=cat_features_card,\n",
    "    d_out=1,\n",
    "    embed_dim=128,\n",
    "    n_heads=8\n",
    ").to(device)\n",
    "\n",
    "\n",
    "optimizer = torch.optim.AdamW(model.parameters(), lr=1e-4)"
   ]
  },
  {
   "cell_type": "code",
   "execution_count": 17,
   "id": "c93b2d1f-8261-416b-98c5-896d37e040c2",
   "metadata": {},
   "outputs": [],
   "source": [
    "pos_weight = 5 #тк дисбаланс\n",
    "loss_func = nn.BCEWithLogitsLoss(pos_weight = torch.tensor(pos_weight))"
   ]
  },
  {
   "cell_type": "code",
   "execution_count": 19,
   "id": "4f6e87e5-103d-48a0-a86b-e9da9aa42e5a",
   "metadata": {},
   "outputs": [],
   "source": [
    "def apply_model(batch):\n",
    "    return model(batch['x_float'], batch['x_cat']).squeeze(-1)"
   ]
  },
  {
   "cell_type": "code",
   "execution_count": 21,
   "id": "d4dda069-b096-48da-a741-aeea97e00764",
   "metadata": {},
   "outputs": [],
   "source": [
    "def evaluate(part, eval_batch_size):\n",
    "    model.eval()\n",
    "    with torch.inference_mode():\n",
    "        y_pred = (\n",
    "            torch.cat(\n",
    "                [\n",
    "                    apply_model(batch) for batch in delu.iter_batches(tensors[part], eval_batch_size)\n",
    "                ]\n",
    "            )\n",
    "            .cpu()\n",
    "        )\n",
    "        y_true = tensors[part]['y'].cpu().numpy()\n",
    "\n",
    "        y_pred = torch.sigmoid(y_pred).numpy()\n",
    "        test_y_pred = y_pred\n",
    "        y_pred = np.where(y_pred>=0.85, 1, 0)\n",
    "        score = sklearn.metrics.roc_auc_score(y_true, test_y_pred)\n",
    "        precision = sklearn.metrics.precision_score(y_true, y_pred)\n",
    "        recall = sklearn.metrics.recall_score(y_true, y_pred)\n",
    "        cm = confusion_matrix(y_true, y_pred)\n",
    "    return score, precision, recall, cm"
   ]
  },
  {
   "cell_type": "code",
   "execution_count": 22,
   "id": "120ecb5c-8072-40d6-b002-814ab469fe62",
   "metadata": {},
   "outputs": [
    {
     "name": "stdout",
     "output_type": "stream",
     "text": [
      "Device: cpu\n",
      "----------------------------------------------------------------------------------------\n",
      "\n"
     ]
    },
    {
     "name": "stderr",
     "output_type": "stream",
     "text": [
      "Epoch 0: 100%|██████████| 411/411 [00:36<00:00, 11.22it/s]\n"
     ]
    },
    {
     "name": "stdout",
     "output_type": "stream",
     "text": [
      "Rocauc: (val) 0.7827 [time] 0:00:38.582248\n",
      "Precision: (val) 0.4687 [time] 0:00:38.582338\n",
      "Recall: (val) 0.2306 [time] 0:00:38.582351\n",
      "\n"
     ]
    },
    {
     "name": "stderr",
     "output_type": "stream",
     "text": [
      "Epoch 1: 100%|██████████| 411/411 [00:35<00:00, 11.48it/s]\n"
     ]
    },
    {
     "name": "stdout",
     "output_type": "stream",
     "text": [
      "Rocauc: (val) 0.7863 [time] 0:01:16.323318\n",
      "Precision: (val) 0.4720 [time] 0:01:16.323408\n",
      "Recall: (val) 0.2407 [time] 0:01:16.323420\n",
      "\n"
     ]
    },
    {
     "name": "stderr",
     "output_type": "stream",
     "text": [
      "Epoch 2: 100%|██████████| 411/411 [00:35<00:00, 11.49it/s]\n"
     ]
    },
    {
     "name": "stdout",
     "output_type": "stream",
     "text": [
      "Rocauc: (val) 0.7908 [time] 0:01:54.269043\n",
      "Precision: (val) 0.4666 [time] 0:01:54.269128\n",
      "Recall: (val) 0.3050 [time] 0:01:54.269140\n",
      "\n"
     ]
    },
    {
     "name": "stderr",
     "output_type": "stream",
     "text": [
      "Epoch 3: 100%|██████████| 411/411 [00:35<00:00, 11.60it/s]\n"
     ]
    },
    {
     "name": "stdout",
     "output_type": "stream",
     "text": [
      "Rocauc: (val) 0.7924 [time] 0:02:31.583047\n",
      "Precision: (val) 0.4884 [time] 0:02:31.583135\n",
      "Recall: (val) 0.2494 [time] 0:02:31.583147\n",
      "\n"
     ]
    },
    {
     "name": "stderr",
     "output_type": "stream",
     "text": [
      "Epoch 4: 100%|██████████| 411/411 [00:35<00:00, 11.61it/s]\n"
     ]
    },
    {
     "name": "stdout",
     "output_type": "stream",
     "text": [
      "Rocauc: (val) 0.7921 [time] 0:03:08.838215\n",
      "Precision: (val) 0.4936 [time] 0:03:08.838295\n",
      "Recall: (val) 0.2342 [time] 0:03:08.838308\n",
      "\n"
     ]
    },
    {
     "name": "stderr",
     "output_type": "stream",
     "text": [
      "Epoch 5: 100%|██████████| 411/411 [00:35<00:00, 11.61it/s]\n"
     ]
    },
    {
     "name": "stdout",
     "output_type": "stream",
     "text": [
      "Rocauc: (val) 0.7951 [time] 0:03:46.557834\n",
      "Precision: (val) 0.5294 [time] 0:03:46.557917\n",
      "Recall: (val) 0.1996 [time] 0:03:46.557929\n",
      "\n"
     ]
    },
    {
     "name": "stderr",
     "output_type": "stream",
     "text": [
      "Epoch 6: 100%|██████████| 411/411 [00:35<00:00, 11.67it/s]\n"
     ]
    },
    {
     "name": "stdout",
     "output_type": "stream",
     "text": [
      "Rocauc: (val) 0.7949 [time] 0:04:23.767551\n",
      "Precision: (val) 0.5095 [time] 0:04:23.767637\n",
      "Recall: (val) 0.2412 [time] 0:04:23.767649\n",
      "\n"
     ]
    },
    {
     "name": "stderr",
     "output_type": "stream",
     "text": [
      "Epoch 7: 100%|██████████| 411/411 [00:35<00:00, 11.49it/s]\n"
     ]
    },
    {
     "name": "stdout",
     "output_type": "stream",
     "text": [
      "Rocauc: (val) 0.7966 [time] 0:05:01.448185\n",
      "Precision: (val) 0.5516 [time] 0:05:01.448271\n",
      "Recall: (val) 0.1868 [time] 0:05:01.448283\n",
      "\n"
     ]
    },
    {
     "name": "stderr",
     "output_type": "stream",
     "text": [
      "Epoch 8: 100%|██████████| 411/411 [00:35<00:00, 11.64it/s]\n"
     ]
    },
    {
     "name": "stdout",
     "output_type": "stream",
     "text": [
      "Rocauc: (val) 0.7964 [time] 0:05:38.596794\n",
      "Precision: (val) 0.5008 [time] 0:05:38.596875\n",
      "Recall: (val) 0.2696 [time] 0:05:38.596887\n",
      "\n"
     ]
    },
    {
     "name": "stderr",
     "output_type": "stream",
     "text": [
      "Epoch 9: 100%|██████████| 411/411 [00:35<00:00, 11.60it/s]\n"
     ]
    },
    {
     "name": "stdout",
     "output_type": "stream",
     "text": [
      "Rocauc: (val) 0.7991 [time] 0:06:16.079713\n",
      "Precision: (val) 0.5187 [time] 0:06:16.079798\n",
      "Recall: (val) 0.2348 [time] 0:06:16.079810\n",
      "\n"
     ]
    },
    {
     "name": "stderr",
     "output_type": "stream",
     "text": [
      "Epoch 10: 100%|██████████| 411/411 [00:35<00:00, 11.60it/s]\n"
     ]
    },
    {
     "name": "stdout",
     "output_type": "stream",
     "text": [
      "Rocauc: (val) 0.8007 [time] 0:06:53.356570\n",
      "Precision: (val) 0.5460 [time] 0:06:53.356655\n",
      "Recall: (val) 0.2081 [time] 0:06:53.356666\n",
      "\n"
     ]
    },
    {
     "name": "stderr",
     "output_type": "stream",
     "text": [
      "Epoch 11: 100%|██████████| 411/411 [00:35<00:00, 11.58it/s]\n"
     ]
    },
    {
     "name": "stdout",
     "output_type": "stream",
     "text": [
      "Rocauc: (val) 0.7985 [time] 0:07:30.963200\n",
      "Precision: (val) 0.5632 [time] 0:07:30.963283\n",
      "Recall: (val) 0.1835 [time] 0:07:30.963294\n",
      "\n"
     ]
    },
    {
     "name": "stderr",
     "output_type": "stream",
     "text": [
      "Epoch 12: 100%|██████████| 411/411 [00:34<00:00, 11.74it/s]\n"
     ]
    },
    {
     "name": "stdout",
     "output_type": "stream",
     "text": [
      "Rocauc: (val) 0.8003 [time] 0:08:07.836410\n",
      "Precision: (val) 0.5101 [time] 0:08:07.836495\n",
      "Recall: (val) 0.2701 [time] 0:08:07.836513\n",
      "\n"
     ]
    },
    {
     "name": "stderr",
     "output_type": "stream",
     "text": [
      "Epoch 13: 100%|██████████| 411/411 [00:34<00:00, 11.79it/s]\n"
     ]
    },
    {
     "name": "stdout",
     "output_type": "stream",
     "text": [
      "Rocauc: (val) 0.8017 [time] 0:08:44.535900\n",
      "Precision: (val) 0.5029 [time] 0:08:44.535983\n",
      "Recall: (val) 0.2870 [time] 0:08:44.535995\n",
      "\n"
     ]
    },
    {
     "name": "stderr",
     "output_type": "stream",
     "text": [
      "Epoch 14: 100%|██████████| 411/411 [00:35<00:00, 11.58it/s]\n"
     ]
    },
    {
     "name": "stdout",
     "output_type": "stream",
     "text": [
      "Rocauc: (val) 0.8026 [time] 0:09:22.202151\n",
      "Precision: (val) 0.5322 [time] 0:09:22.202236\n",
      "Recall: (val) 0.2355 [time] 0:09:22.202248\n",
      "\n"
     ]
    },
    {
     "name": "stderr",
     "output_type": "stream",
     "text": [
      "Epoch 15: 100%|██████████| 411/411 [00:35<00:00, 11.67it/s]\n"
     ]
    },
    {
     "name": "stdout",
     "output_type": "stream",
     "text": [
      "Rocauc: (val) 0.8004 [time] 0:09:59.422634\n",
      "Precision: (val) 0.5542 [time] 0:09:59.422717\n",
      "Recall: (val) 0.2220 [time] 0:09:59.422730\n",
      "\n"
     ]
    },
    {
     "name": "stderr",
     "output_type": "stream",
     "text": [
      "Epoch 16: 100%|██████████| 411/411 [00:35<00:00, 11.55it/s]\n"
     ]
    },
    {
     "name": "stdout",
     "output_type": "stream",
     "text": [
      "Rocauc: (val) 0.8015 [time] 0:10:36.829688\n",
      "Precision: (val) 0.5374 [time] 0:10:36.829770\n",
      "Recall: (val) 0.2343 [time] 0:10:36.829783\n",
      "\n"
     ]
    },
    {
     "name": "stderr",
     "output_type": "stream",
     "text": [
      "Epoch 17: 100%|██████████| 411/411 [00:35<00:00, 11.62it/s]\n"
     ]
    },
    {
     "name": "stdout",
     "output_type": "stream",
     "text": [
      "Rocauc: (val) 0.8037 [time] 0:11:14.043972\n",
      "Precision: (val) 0.5300 [time] 0:11:14.044058\n",
      "Recall: (val) 0.2647 [time] 0:11:14.044070\n",
      "\n"
     ]
    },
    {
     "name": "stderr",
     "output_type": "stream",
     "text": [
      "Epoch 18: 100%|██████████| 411/411 [00:35<00:00, 11.72it/s]\n"
     ]
    },
    {
     "name": "stdout",
     "output_type": "stream",
     "text": [
      "Rocauc: (val) 0.8030 [time] 0:11:51.203454\n",
      "Precision: (val) 0.5106 [time] 0:11:51.203545\n",
      "Recall: (val) 0.2926 [time] 0:11:51.203558\n",
      "\n"
     ]
    },
    {
     "name": "stderr",
     "output_type": "stream",
     "text": [
      "Epoch 19: 100%|██████████| 411/411 [00:35<00:00, 11.60it/s]\n"
     ]
    },
    {
     "name": "stdout",
     "output_type": "stream",
     "text": [
      "Rocauc: (val) 0.8001 [time] 0:12:28.428207\n",
      "Precision: (val) 0.5200 [time] 0:12:28.428292\n",
      "Recall: (val) 0.2558 [time] 0:12:28.428304\n",
      "\n"
     ]
    },
    {
     "name": "stderr",
     "output_type": "stream",
     "text": [
      "Epoch 20: 100%|██████████| 411/411 [00:35<00:00, 11.71it/s]\n"
     ]
    },
    {
     "name": "stdout",
     "output_type": "stream",
     "text": [
      "Rocauc: (val) 0.8033 [time] 0:13:05.720337\n",
      "Precision: (val) 0.5156 [time] 0:13:05.720421\n",
      "Recall: (val) 0.2871 [time] 0:13:05.720433\n",
      "\n"
     ]
    },
    {
     "name": "stderr",
     "output_type": "stream",
     "text": [
      "Epoch 21: 100%|██████████| 411/411 [00:35<00:00, 11.68it/s]\n"
     ]
    },
    {
     "name": "stdout",
     "output_type": "stream",
     "text": [
      "Rocauc: (val) 0.8032 [time] 0:13:42.725350\n",
      "Precision: (val) 0.5457 [time] 0:13:42.725433\n",
      "Recall: (val) 0.2379 [time] 0:13:42.725446\n",
      "\n"
     ]
    },
    {
     "name": "stderr",
     "output_type": "stream",
     "text": [
      "Epoch 22: 100%|██████████| 411/411 [00:35<00:00, 11.73it/s]\n"
     ]
    },
    {
     "name": "stdout",
     "output_type": "stream",
     "text": [
      "Rocauc: (val) 0.8039 [time] 0:14:19.629373\n",
      "Precision: (val) 0.5579 [time] 0:14:19.629453\n",
      "Recall: (val) 0.2371 [time] 0:14:19.629465\n",
      "\n"
     ]
    },
    {
     "name": "stderr",
     "output_type": "stream",
     "text": [
      "Epoch 23: 100%|██████████| 411/411 [00:35<00:00, 11.73it/s]\n"
     ]
    },
    {
     "name": "stdout",
     "output_type": "stream",
     "text": [
      "Rocauc: (val) 0.8057 [time] 0:14:56.488517\n",
      "Precision: (val) 0.5441 [time] 0:14:56.488598\n",
      "Recall: (val) 0.2396 [time] 0:14:56.488611\n",
      "\n"
     ]
    },
    {
     "name": "stderr",
     "output_type": "stream",
     "text": [
      "Epoch 24: 100%|██████████| 411/411 [00:35<00:00, 11.65it/s]\n"
     ]
    },
    {
     "name": "stdout",
     "output_type": "stream",
     "text": [
      "Rocauc: (val) 0.8038 [time] 0:15:33.611219\n",
      "Precision: (val) 0.5227 [time] 0:15:33.611299\n",
      "Recall: (val) 0.2817 [time] 0:15:33.611311\n",
      "\n"
     ]
    },
    {
     "name": "stderr",
     "output_type": "stream",
     "text": [
      "Epoch 25: 100%|██████████| 411/411 [00:35<00:00, 11.48it/s]\n"
     ]
    },
    {
     "name": "stdout",
     "output_type": "stream",
     "text": [
      "Rocauc: (val) 0.8028 [time] 0:16:11.535819\n",
      "Precision: (val) 0.5388 [time] 0:16:11.535903\n",
      "Recall: (val) 0.2540 [time] 0:16:11.535915\n",
      "\n"
     ]
    },
    {
     "name": "stderr",
     "output_type": "stream",
     "text": [
      "Epoch 26: 100%|██████████| 411/411 [00:35<00:00, 11.67it/s]\n"
     ]
    },
    {
     "name": "stdout",
     "output_type": "stream",
     "text": [
      "Rocauc: (val) 0.8042 [time] 0:16:48.572791\n",
      "Precision: (val) 0.5501 [time] 0:16:48.572873\n",
      "Recall: (val) 0.2312 [time] 0:16:48.572884\n",
      "\n"
     ]
    },
    {
     "name": "stderr",
     "output_type": "stream",
     "text": [
      "Epoch 27: 100%|██████████| 411/411 [00:35<00:00, 11.67it/s]\n"
     ]
    },
    {
     "name": "stdout",
     "output_type": "stream",
     "text": [
      "Rocauc: (val) 0.8042 [time] 0:17:25.608951\n",
      "Precision: (val) 0.5499 [time] 0:17:25.609035\n",
      "Recall: (val) 0.2404 [time] 0:17:25.609047\n",
      "\n"
     ]
    },
    {
     "name": "stderr",
     "output_type": "stream",
     "text": [
      "Epoch 28: 100%|██████████| 411/411 [00:35<00:00, 11.73it/s]\n"
     ]
    },
    {
     "name": "stdout",
     "output_type": "stream",
     "text": [
      "Rocauc: (val) 0.8055 [time] 0:18:02.529877\n",
      "Precision: (val) 0.5497 [time] 0:18:02.529961\n",
      "Recall: (val) 0.2496 [time] 0:18:02.529972\n",
      "\n"
     ]
    },
    {
     "name": "stderr",
     "output_type": "stream",
     "text": [
      "Epoch 29: 100%|██████████| 411/411 [00:35<00:00, 11.58it/s]\n"
     ]
    },
    {
     "name": "stdout",
     "output_type": "stream",
     "text": [
      "Rocauc: (val) 0.8054 [time] 0:18:39.934548\n",
      "Precision: (val) 0.5449 [time] 0:18:39.934636\n",
      "Recall: (val) 0.2586 [time] 0:18:39.934649\n",
      "\n"
     ]
    },
    {
     "name": "stderr",
     "output_type": "stream",
     "text": [
      "Epoch 30: 100%|██████████| 411/411 [00:36<00:00, 11.40it/s]\n"
     ]
    },
    {
     "name": "stdout",
     "output_type": "stream",
     "text": [
      "Rocauc: (val) 0.8045 [time] 0:19:17.856908\n",
      "Precision: (val) 0.5194 [time] 0:19:17.856989\n",
      "Recall: (val) 0.2857 [time] 0:19:17.857001\n",
      "\n"
     ]
    },
    {
     "name": "stderr",
     "output_type": "stream",
     "text": [
      "Epoch 31: 100%|██████████| 411/411 [00:35<00:00, 11.45it/s]\n"
     ]
    },
    {
     "name": "stdout",
     "output_type": "stream",
     "text": [
      "Rocauc: (val) 0.8028 [time] 0:19:55.620769\n",
      "Precision: (val) 0.5553 [time] 0:19:55.620849\n",
      "Recall: (val) 0.2314 [time] 0:19:55.620862\n",
      "\n"
     ]
    },
    {
     "name": "stderr",
     "output_type": "stream",
     "text": [
      "Epoch 32: 100%|██████████| 411/411 [00:35<00:00, 11.47it/s]\n"
     ]
    },
    {
     "name": "stdout",
     "output_type": "stream",
     "text": [
      "Rocauc: (val) 0.8055 [time] 0:20:33.310006\n",
      "Precision: (val) 0.5546 [time] 0:20:33.310091\n",
      "Recall: (val) 0.2289 [time] 0:20:33.310103\n",
      "\n"
     ]
    },
    {
     "name": "stderr",
     "output_type": "stream",
     "text": [
      "Epoch 33: 100%|██████████| 411/411 [00:35<00:00, 11.47it/s]\n"
     ]
    },
    {
     "name": "stdout",
     "output_type": "stream",
     "text": [
      "Rocauc: (val) 0.8053 [time] 0:21:11.286972\n",
      "Precision: (val) 0.5435 [time] 0:21:11.287057\n",
      "Recall: (val) 0.2663 [time] 0:21:11.287068\n",
      "\n"
     ]
    },
    {
     "name": "stderr",
     "output_type": "stream",
     "text": [
      "Epoch 34: 100%|██████████| 411/411 [00:35<00:00, 11.50it/s]\n"
     ]
    },
    {
     "name": "stdout",
     "output_type": "stream",
     "text": [
      "Rocauc: (val) 0.8045 [time] 0:21:49.149152\n",
      "Precision: (val) 0.5255 [time] 0:21:49.149237\n",
      "Recall: (val) 0.2785 [time] 0:21:49.149249\n",
      "\n"
     ]
    },
    {
     "name": "stderr",
     "output_type": "stream",
     "text": [
      "Epoch 35: 100%|██████████| 411/411 [00:35<00:00, 11.59it/s]\n"
     ]
    },
    {
     "name": "stdout",
     "output_type": "stream",
     "text": [
      "Rocauc: (val) 0.8048 [time] 0:22:26.511637\n",
      "Precision: (val) 0.5487 [time] 0:22:26.511719\n",
      "Recall: (val) 0.2376 [time] 0:22:26.511731\n",
      "\n"
     ]
    },
    {
     "name": "stderr",
     "output_type": "stream",
     "text": [
      "Epoch 36: 100%|██████████| 411/411 [00:35<00:00, 11.60it/s]\n"
     ]
    },
    {
     "name": "stdout",
     "output_type": "stream",
     "text": [
      "Rocauc: (val) 0.8051 [time] 0:23:04.003978\n",
      "Precision: (val) 0.5278 [time] 0:23:04.004063\n",
      "Recall: (val) 0.2899 [time] 0:23:04.004075\n",
      "\n"
     ]
    },
    {
     "name": "stderr",
     "output_type": "stream",
     "text": [
      "Epoch 37: 100%|██████████| 411/411 [00:35<00:00, 11.42it/s]\n"
     ]
    },
    {
     "name": "stdout",
     "output_type": "stream",
     "text": [
      "Rocauc: (val) 0.8040 [time] 0:23:41.920228\n",
      "Precision: (val) 0.5369 [time] 0:23:41.920312\n",
      "Recall: (val) 0.2611 [time] 0:23:41.920324\n",
      "\n"
     ]
    },
    {
     "name": "stderr",
     "output_type": "stream",
     "text": [
      "Epoch 38: 100%|██████████| 411/411 [00:36<00:00, 11.41it/s]\n"
     ]
    },
    {
     "name": "stdout",
     "output_type": "stream",
     "text": [
      "Rocauc: (val) 0.8008 [time] 0:24:19.996315\n",
      "Precision: (val) 0.5397 [time] 0:24:19.996399\n",
      "Recall: (val) 0.2384 [time] 0:24:19.996411\n",
      "\n"
     ]
    },
    {
     "name": "stderr",
     "output_type": "stream",
     "text": [
      "Epoch 39: 100%|██████████| 411/411 [00:35<00:00, 11.66it/s]\n"
     ]
    },
    {
     "name": "stdout",
     "output_type": "stream",
     "text": [
      "Rocauc: (val) 0.8051 [time] 0:24:57.145494\n",
      "Precision: (val) 0.5336 [time] 0:24:57.145586\n",
      "Recall: (val) 0.2722 [time] 0:24:57.145598\n",
      "\n"
     ]
    },
    {
     "name": "stderr",
     "output_type": "stream",
     "text": [
      "Epoch 40: 100%|██████████| 411/411 [00:34<00:00, 11.94it/s]\n"
     ]
    },
    {
     "name": "stdout",
     "output_type": "stream",
     "text": [
      "Rocauc: (val) 0.8051 [time] 0:25:33.399183\n",
      "Precision: (val) 0.5204 [time] 0:25:33.399269\n",
      "Recall: (val) 0.2809 [time] 0:25:33.399281\n",
      "\n"
     ]
    },
    {
     "name": "stderr",
     "output_type": "stream",
     "text": [
      "Epoch 41: 100%|██████████| 411/411 [00:35<00:00, 11.73it/s]\n"
     ]
    },
    {
     "name": "stdout",
     "output_type": "stream",
     "text": [
      "Rocauc: (val) 0.8032 [time] 0:26:10.306683\n",
      "Precision: (val) 0.5501 [time] 0:26:10.306788\n",
      "Recall: (val) 0.2378 [time] 0:26:10.306805\n",
      "\n"
     ]
    },
    {
     "name": "stderr",
     "output_type": "stream",
     "text": [
      "Epoch 42: 100%|██████████| 411/411 [00:35<00:00, 11.69it/s]\n"
     ]
    },
    {
     "name": "stdout",
     "output_type": "stream",
     "text": [
      "Rocauc: (val) 0.8053 [time] 0:26:47.604829\n",
      "Precision: (val) 0.5458 [time] 0:26:47.604912\n",
      "Recall: (val) 0.2580 [time] 0:26:47.604924\n",
      "\n"
     ]
    },
    {
     "name": "stderr",
     "output_type": "stream",
     "text": [
      "Epoch 43: 100%|██████████| 411/411 [00:34<00:00, 11.84it/s]\n"
     ]
    },
    {
     "name": "stdout",
     "output_type": "stream",
     "text": [
      "Rocauc: (val) 0.8042 [time] 0:27:24.455548\n",
      "Precision: (val) 0.5520 [time] 0:27:24.455631\n",
      "Recall: (val) 0.2524 [time] 0:27:24.455643\n",
      "\n"
     ]
    },
    {
     "name": "stderr",
     "output_type": "stream",
     "text": [
      "Epoch 44: 100%|██████████| 411/411 [00:34<00:00, 11.90it/s]\n"
     ]
    },
    {
     "name": "stdout",
     "output_type": "stream",
     "text": [
      "Rocauc: (val) 0.8046 [time] 0:28:00.818042\n",
      "Precision: (val) 0.5308 [time] 0:28:00.818130\n",
      "Recall: (val) 0.2799 [time] 0:28:00.818142\n",
      "\n"
     ]
    },
    {
     "name": "stderr",
     "output_type": "stream",
     "text": [
      "Epoch 45: 100%|██████████| 411/411 [00:34<00:00, 11.89it/s]\n"
     ]
    },
    {
     "name": "stdout",
     "output_type": "stream",
     "text": [
      "Rocauc: (val) 0.8047 [time] 0:28:37.208117\n",
      "Precision: (val) 0.5774 [time] 0:28:37.208204\n",
      "Recall: (val) 0.2171 [time] 0:28:37.208216\n",
      "\n"
     ]
    },
    {
     "name": "stderr",
     "output_type": "stream",
     "text": [
      "Epoch 46: 100%|██████████| 411/411 [00:35<00:00, 11.73it/s]\n"
     ]
    },
    {
     "name": "stdout",
     "output_type": "stream",
     "text": [
      "Rocauc: (val) 0.8030 [time] 0:29:14.127081\n",
      "Precision: (val) 0.5350 [time] 0:29:14.127163\n",
      "Recall: (val) 0.2655 [time] 0:29:14.127175\n",
      "\n"
     ]
    },
    {
     "name": "stderr",
     "output_type": "stream",
     "text": [
      "Epoch 47: 100%|██████████| 411/411 [00:34<00:00, 11.75it/s]\n"
     ]
    },
    {
     "name": "stdout",
     "output_type": "stream",
     "text": [
      "Rocauc: (val) 0.8041 [time] 0:29:51.157525\n",
      "Precision: (val) 0.5441 [time] 0:29:51.157642\n",
      "Recall: (val) 0.2529 [time] 0:29:51.157662\n",
      "\n"
     ]
    },
    {
     "name": "stderr",
     "output_type": "stream",
     "text": [
      "Epoch 48: 100%|██████████| 411/411 [00:34<00:00, 11.79it/s]\n"
     ]
    },
    {
     "name": "stdout",
     "output_type": "stream",
     "text": [
      "Rocauc: (val) 0.8047 [time] 0:30:28.305240\n",
      "Precision: (val) 0.5761 [time] 0:30:28.305326\n",
      "Recall: (val) 0.2297 [time] 0:30:28.305338\n",
      "\n"
     ]
    },
    {
     "name": "stderr",
     "output_type": "stream",
     "text": [
      "Epoch 49: 100%|██████████| 411/411 [00:34<00:00, 11.83it/s]\n"
     ]
    },
    {
     "name": "stdout",
     "output_type": "stream",
     "text": [
      "Rocauc: (val) 0.8031 [time] 0:31:04.898350\n",
      "Precision: (val) 0.5389 [time] 0:31:04.898433\n",
      "Recall: (val) 0.2591 [time] 0:31:04.898446\n",
      "\n"
     ]
    }
   ],
   "source": [
    "n_epochs = 50\n",
    "patience = 100\n",
    "\n",
    "eval_batch_size = 512\n",
    "batch_size = 512\n",
    "epoch_size = math.ceil(len(train_idx) / batch_size)\n",
    "timer = delu.tools.Timer()\n",
    "early_stopping = delu.tools.EarlyStopping(patience, mode='max')\n",
    "\n",
    "print(f\"Device: {device}\")\n",
    "print(\"-\" * 88 + \"\\n\")\n",
    "timer.run()\n",
    "for epoch in range(n_epochs):\n",
    "    for batch in tqdm(\n",
    "        delu.iter_batches(tensors['train'], batch_size, shuffle=True),\n",
    "        desc=f\"Epoch {epoch}\",\n",
    "        total=epoch_size,\n",
    "    ):\n",
    "        model.train()\n",
    "        optimizer.zero_grad()\n",
    "        loss = loss_func(apply_model(batch), batch['y'])\n",
    "        loss.backward()\n",
    "        optimizer.step()\n",
    "\n",
    "    val_score, val_precision, val_recall, prob_val = evaluate('val', eval_batch_size)\n",
    "    print(f\"Rocauc: (val) {val_score:.4f} [time] {timer}\")\n",
    "    print(f\"Precision: (val) {val_precision:.4f} [time] {timer}\")\n",
    "    print(f\"Recall: (val) {val_recall:.4f} [time] {timer}\")\n",
    "\n",
    "    early_stopping.update(val_score)\n",
    "    if early_stopping.should_stop():\n",
    "        break\n",
    "\n",
    "    print()"
   ]
  },
  {
   "cell_type": "markdown",
   "id": "12a770e9-536c-42e1-8b87-c392ecee2030",
   "metadata": {},
   "source": [
    "### === Наилучший порог по графику ==="
   ]
  },
  {
   "cell_type": "code",
   "execution_count": 23,
   "id": "138b443a-d896-452a-820c-ee6f6c615b2b",
   "metadata": {},
   "outputs": [],
   "source": [
    "def plot_precision_recall_curve(y_true, y_proba):\n",
    "    thresholds = np.linspace(0.01, 0.99, 100)\n",
    "    precisions = []\n",
    "    recalls = []\n",
    "    f1s = []\n",
    "\n",
    "    for t in thresholds:\n",
    "        y_pred = (y_proba >= t).astype(int)\n",
    "        precisions.append(precision_score(y_true, y_pred, zero_division=0))\n",
    "        recalls.append(recall_score(y_true, y_pred))\n",
    "        f1s.append(f1_score(y_true, y_pred, zero_division=0))\n",
    "\n",
    "    plt.figure(figsize=(10, 6))\n",
    "    plt.plot(thresholds, precisions, label='Precision')\n",
    "    plt.plot(thresholds, recalls, label='Recall')\n",
    "    plt.plot(thresholds, f1s, label='F1-score')\n",
    "    plt.xlabel('Порог вероятности')\n",
    "    plt.ylabel('Значение метрики')\n",
    "    plt.title('Зависимость Precision / Recall / F1 от порога')\n",
    "    plt.legend()\n",
    "    plt.grid(True)\n",
    "    plt.show()"
   ]
  },
  {
   "cell_type": "code",
   "execution_count": 24,
   "id": "f5717026-a47f-434b-b197-ea05c0010d57",
   "metadata": {},
   "outputs": [
    {
     "data": {
      "image/png": "[encoded data removed]",
      "text/plain": [
       "<Figure size 1000x600 with 1 Axes>"
      ]
     },
     "metadata": {},
     "output_type": "display_data"
    }
   ],
   "source": [
    "model.eval()\n",
    "with torch.no_grad():\n",
    "    val_logits = model(tensors['val']['x_float'], tensors['val']['x_cat'])\n",
    "    val_proba = torch.sigmoid(val_logits).cpu().numpy()\n",
    "    val_true = tensors['val']['y'].cpu().numpy()\n",
    "\n",
    "plot_precision_recall_curve(val_true, val_proba)"
   ]
  },
  {
   "cell_type": "markdown",
   "id": "3012ada2-345e-4c14-b60b-bcb8ed7c8939",
   "metadata": {},
   "source": [
    "##### считаю, что порог 0.9 подходит для корректного среза false positive решений"
   ]
  },
  {
   "cell_type": "markdown",
   "id": "3ee2f861-8a93-4e15-b43a-261316fb3dbf",
   "metadata": {},
   "source": [
    "### === Оценка качества на тесте с подходящим трешхолдом ==="
   ]
  },
  {
   "cell_type": "code",
   "execution_count": 34,
   "id": "fa6f853c-41c0-4732-8bde-aff3b113b696",
   "metadata": {},
   "outputs": [
    {
     "name": "stdout",
     "output_type": "stream",
     "text": [
      "Rocauc: (test) 0.8052\n",
      "Precision: (test) 0.5964\n",
      "Recall: (test) 0.1536\n"
     ]
    }
   ],
   "source": [
    "test_score, test_precision, test_recall, prob_test= evaluate('test', eval_batch_size)\n",
    "print(f\"Rocauc: (test) {test_score:.4f}\")\n",
    "print(f\"Precision: (test) {test_precision:.4f}\")\n",
    "print(f\"Recall: (test) {test_recall:.4f}\")"
   ]
  },
  {
   "cell_type": "code",
   "execution_count": 35,
   "id": "99d4df1a-f38d-4a95-b074-18e9884f2785",
   "metadata": {},
   "outputs": [],
   "source": [
    "def flow_cut(y_prob, threshold):\n",
    "    return (y_prob >= threshold).mean()"
   ]
  },
  {
   "cell_type": "code",
   "execution_count": 36,
   "id": "c9ab5810-3760-4385-8f6a-ad638e61e85e",
   "metadata": {},
   "outputs": [],
   "source": [
    "model.eval()\n",
    "with torch.no_grad():\n",
    "    test_proba = torch.sigmoid(model(tensors['test']['x_float'], tensors['test']['x_cat'])).cpu().numpy()\n",
    "y_true = tensors['test']['y'].cpu().numpy()"
   ]
  },
  {
   "cell_type": "code",
   "execution_count": 37,
   "id": "4be1bb53-d26c-43c0-913e-010371a5228e",
   "metadata": {},
   "outputs": [
    {
     "name": "stdout",
     "output_type": "stream",
     "text": [
      "Flow cut with best threshold: 0.0312\n"
     ]
    }
   ],
   "source": [
    "print(f\"Flow cut with best threshold: {flow_cut(test_proba, 0.9):.4f}\")"
   ]
  },
  {
   "cell_type": "markdown",
   "id": "4e4bfa61-dc61-48ef-8ddf-b8a165abb4f9",
   "metadata": {},
   "source": [
    "##### Метрики,если срез в 4%"
   ]
  },
  {
   "cell_type": "code",
   "execution_count": 38,
   "id": "817e3164-c8a9-49ea-959e-220e23102c7d",
   "metadata": {},
   "outputs": [],
   "source": [
    "def get_threshold_for_top_percent(y_proba, top_percent=0.04):\n",
    "    k = int(len(y_proba) * top_percent)\n",
    "    sorted_proba = np.sort(y_proba, axis=0)\n",
    "    return sorted_proba[-k]"
   ]
  },
  {
   "cell_type": "code",
   "execution_count": 39,
   "id": "e088c056-7c0a-4abf-9f58-2099db33f370",
   "metadata": {},
   "outputs": [
    {
     "name": "stdout",
     "output_type": "stream",
     "text": [
      "Threshold @ top 4%: 0.8830\n",
      "Precision@4%: 0.5600\n",
      "Recall@4%:    0.1848\n",
      "Отсечено:     4.00% заявок\n"
     ]
    }
   ],
   "source": [
    "threshold_4pct = get_threshold_for_top_percent(test_proba, top_percent=0.04)\n",
    "y_pred_top4 = (test_proba >= threshold_4pct[0]).astype(int)\n",
    "\n",
    "#метрики в этом срезе:\n",
    "precision = precision_score(y_true, y_pred_top4)\n",
    "recall = recall_score(y_true, y_pred_top4)\n",
    "stream_cut = (y_pred_top4 == 1).mean()\n",
    "\n",
    "print(f\"Threshold @ top 4%: {threshold_4pct[0]:.4f}\")\n",
    "print(f\"Precision@4%: {precision:.4f}\")\n",
    "print(f\"Recall@4%:    {recall:.4f}\")\n",
    "print(f\"Отсечено:     {stream_cut*100:.2f}% заявок\")"
   ]
  },
  {
   "cell_type": "markdown",
   "id": "e64f8769-1ca9-44c1-924d-d6b27f9eb496",
   "metadata": {},
   "source": [
    "### === Важность фичей ==="
   ]
  },
  {
   "cell_type": "code",
   "execution_count": 40,
   "id": "48228a0a-2450-4d34-89df-ea0930a03f87",
   "metadata": {},
   "outputs": [],
   "source": [
    "def permutation_importance(model, tensors, feature_names=None, part='val'):\n",
    "    model.eval()\n",
    "\n",
    "    x_float = tensors[part]['x_float'].clone()\n",
    "    x_cat = tensors[part]['x_cat'].clone()\n",
    "    y_true = tensors[part]['y'].cpu().numpy()\n",
    "\n",
    "    with torch.no_grad():\n",
    "        base_preds = torch.sigmoid(model(x_float, x_cat)).cpu().numpy()\n",
    "    baseline_auc = roc_auc_score(y_true, base_preds)\n",
    "\n",
    "    importances = []\n",
    "    names = []\n",
    "\n",
    "    # Перемешиваем числовые признаки\n",
    "    for i in range(x_float.shape[1]):\n",
    "        x_float_perm = x_float.clone()\n",
    "        x_float_perm[:, i] = x_float_perm[torch.randperm(len(x_float_perm)), i]\n",
    "        with torch.no_grad():\n",
    "            preds = torch.sigmoid(model(x_float_perm, x_cat)).cpu().numpy()\n",
    "        auc = roc_auc_score(y_true, preds)\n",
    "        importances.append(baseline_auc - auc)\n",
    "        if feature_names:\n",
    "            names.append(feature_names['float'][i])\n",
    "        else:\n",
    "            names.append(f'float_{i}')\n",
    "\n",
    "    # Перемешиваем категориальные признаки\n",
    "    for i in range(x_cat.shape[1]):\n",
    "        x_cat_perm = x_cat.clone()\n",
    "        x_cat_perm[:, i] = x_cat_perm[torch.randperm(len(x_cat_perm)), i]\n",
    "        with torch.no_grad():\n",
    "            preds = torch.sigmoid(model(x_float, x_cat_perm)).cpu().numpy()\n",
    "        auc = roc_auc_score(y_true, preds)\n",
    "        importances.append(baseline_auc - auc)\n",
    "        if feature_names:\n",
    "            names.append(feature_names['cat'][i])\n",
    "        else:\n",
    "            names.append(f'cat_{i}')\n",
    "\n",
    "    return importances, names"
   ]
  },
  {
   "cell_type": "code",
   "execution_count": 42,
   "id": "1bd4e8c3-47eb-4b82-a1f2-5cd50b6d6c36",
   "metadata": {},
   "outputs": [
    {
     "data": {
      "image/png": "[encoded data removed]",
      "text/plain": [
       "<Figure size 1200x600 with 1 Axes>"
      ]
     },
     "metadata": {},
     "output_type": "display_data"
    }
   ],
   "source": [
    "X_cat_df = X.select_dtypes(include=['object'])\n",
    "X_float_df = X.select_dtypes(include=['float'])\n",
    "X_int_float_df = X.select_dtypes(include=['int64']).astype(np.float32)\n",
    "X_float_df = pd.concat([X_float_df, X_int_float_df], axis=1)\n",
    "\n",
    "feature_names = {\n",
    "    'float': list(X_float_df.columns),\n",
    "    'cat': list(X_cat_df.columns),\n",
    "}\n",
    "\n",
    "importances, names = permutation_importance(model, tensors, feature_names=feature_names)\n",
    "\n",
    "plt.figure(figsize=(12, 6))\n",
    "plt.barh(names, importances)\n",
    "plt.title(\"Permutation Feature Importance (Transformer RA)\")\n",
    "plt.xlabel(\"Падение ROC AUC при перемешивании\")\n",
    "plt.tight_layout()\n",
    "plt.show()"
   ]
  }
 ],
 "metadata": {
  "kernelspec": {
   "display_name": "pip_base",
   "language": "python",
   "name": "pip_base"
  },
  "language_info": {
   "codemirror_mode": {
    "name": "ipython",
    "version": 3
   },
   "file_extension": ".py",
   "mimetype": "text/x-python",
   "name": "python",
   "nbconvert_exporter": "python",
   "pygments_lexer": "ipython3",
   "version": "3.10.12"
  }
 },
 "nbformat": 4,
 "nbformat_minor": 5
}

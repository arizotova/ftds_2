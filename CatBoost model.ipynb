{
 "cells": [
  {
   "cell_type": "code",
   "execution_count": 1,
   "id": "34f357ef-44b0-41a9-bacd-d1fa42ddec1a",
   "metadata": {},
   "outputs": [
    {
     "name": "stdout",
     "output_type": "stream",
     "text": [
      "Looking in indexes: https://nexus.isb/repository/pypiorg-pypi-proxy/simple, https://nexus.isb/repository/deml-prod-pypi-hosted/simple\n",
      "Requirement already satisfied: catboost in /opt/pip_base/lib/python3.10/site-packages (1.2.5)\n",
      "Requirement already satisfied: scipy in /opt/pip_base/lib/python3.10/site-packages (from catboost) (1.13.1)\n",
      "Requirement already satisfied: matplotlib in /opt/pip_base/lib/python3.10/site-packages (from catboost) (3.9.0)\n",
      "Requirement already satisfied: six in /opt/pip_base/lib/python3.10/site-packages (from catboost) (1.17.0)\n",
      "Requirement already satisfied: graphviz in /opt/pip_base/lib/python3.10/site-packages (from catboost) (0.20.3)\n",
      "Requirement already satisfied: pandas>=0.24 in /opt/pip_base/lib/python3.10/site-packages (from catboost) (2.2.2)\n",
      "Requirement already satisfied: plotly in /opt/pip_base/lib/python3.10/site-packages (from catboost) (6.0.1)\n",
      "Requirement already satisfied: numpy>=1.16.0 in /opt/pip_base/lib/python3.10/site-packages (from catboost) (1.26.4)\n",
      "Requirement already satisfied: tzdata>=2022.7 in /opt/pip_base/lib/python3.10/site-packages (from pandas>=0.24->catboost) (2025.1)\n",
      "Requirement already satisfied: python-dateutil>=2.8.2 in /opt/pip_base/lib/python3.10/site-packages (from pandas>=0.24->catboost) (2.9.0.post0)\n",
      "Requirement already satisfied: pytz>=2020.1 in /opt/pip_base/lib/python3.10/site-packages (from pandas>=0.24->catboost) (2024.2)\n",
      "Requirement already satisfied: cycler>=0.10 in /opt/pip_base/lib/python3.10/site-packages (from matplotlib->catboost) (0.12.1)\n",
      "Requirement already satisfied: fonttools>=4.22.0 in /opt/pip_base/lib/python3.10/site-packages (from matplotlib->catboost) (4.56.0)\n",
      "Requirement already satisfied: pyparsing>=2.3.1 in /opt/pip_base/lib/python3.10/site-packages (from matplotlib->catboost) (3.2.1)\n",
      "Requirement already satisfied: contourpy>=1.0.1 in /opt/pip_base/lib/python3.10/site-packages (from matplotlib->catboost) (1.3.1)\n",
      "Requirement already satisfied: packaging>=20.0 in /opt/pip_base/lib/python3.10/site-packages (from matplotlib->catboost) (24.2)\n",
      "Requirement already satisfied: pillow>=8 in /opt/pip_base/lib/python3.10/site-packages (from matplotlib->catboost) (11.1.0)\n",
      "Requirement already satisfied: kiwisolver>=1.3.1 in /opt/pip_base/lib/python3.10/site-packages (from matplotlib->catboost) (1.4.8)\n",
      "Requirement already satisfied: narwhals>=1.15.1 in /opt/pip_base/lib/python3.10/site-packages (from plotly->catboost) (1.31.0)\n"
     ]
    }
   ],
   "source": [
    "!pip install catboost"
   ]
  },
  {
   "cell_type": "code",
   "execution_count": 2,
   "id": "3d65370c-08ac-426c-8828-9583cbad6ed5",
   "metadata": {},
   "outputs": [],
   "source": [
    "import pandas as pd\n",
    "import numpy as np\n",
    "import math\n",
    "\n",
    "pd.set_option('display.max_rows', None)\n",
    "pd.set_option('display.max_columns', None)\n",
    "\n",
    "from catboost import CatBoostClassifier\n",
    "import sklearn.model_selection\n",
    "import sklearn.preprocessing\n",
    "from sklearn.metrics import roc_auc_score, precision_score, recall_score, confusion_matrix, f1_score\n",
    "import matplotlib.pyplot as plt\n",
    "\n",
    "from itertools import product"
   ]
  },
  {
   "cell_type": "markdown",
   "id": "c2fcb8c9-e085-4b48-8048-fd47033b08d6",
   "metadata": {},
   "source": [
    "### === Готовим данные для модели ==="
   ]
  },
  {
   "cell_type": "code",
   "execution_count": 3,
   "id": "5175348c-80e8-4b33-b6aa-429dd7ba564c",
   "metadata": {},
   "outputs": [],
   "source": [
    "df = pd.read_csv('iar_hse_data.csv')"
   ]
  },
  {
   "cell_type": "code",
   "execution_count": 4,
   "id": "73942d57-e710-4267-8244-e2902c1d4f20",
   "metadata": {},
   "outputs": [
    {
     "data": {
      "text/html": [
       "<div>\n",
       "<style scoped>\n",
       "    .dataframe tbody tr th:only-of-type {\n",
       "        vertical-align: middle;\n",
       "    }\n",
       "\n",
       "    .dataframe tbody tr th {\n",
       "        vertical-align: top;\n",
       "    }\n",
       "\n",
       "    .dataframe thead th {\n",
       "        text-align: right;\n",
       "    }\n",
       "</style>\n",
       "<table border=\"1\" class=\"dataframe\">\n",
       "  <thead>\n",
       "    <tr style=\"text-align: right;\">\n",
       "      <th></th>\n",
       "      <th>product_grp</th>\n",
       "      <th>requested_sum</th>\n",
       "      <th>used_score</th>\n",
       "      <th>personal_income</th>\n",
       "      <th>es_1</th>\n",
       "      <th>es_2</th>\n",
       "      <th>es_3</th>\n",
       "      <th>cnt_all_apps_last7days</th>\n",
       "      <th>cnt_all_apps_last30days</th>\n",
       "      <th>cnt_all_apps_last90days</th>\n",
       "      <th>cnt_refused_apps_last7days</th>\n",
       "      <th>cnt_refused_apps_last30days</th>\n",
       "      <th>cnt_refused_apps_last90days</th>\n",
       "      <th>online_flg</th>\n",
       "      <th>bureau_hist_due</th>\n",
       "      <th>appnumberofappslm</th>\n",
       "      <th>count_bureau_credits_less_730_days</th>\n",
       "      <th>client_segment</th>\n",
       "      <th>target</th>\n",
       "      <th>cnt_open_agr_7</th>\n",
       "      <th>cnt_open_agr_30</th>\n",
       "      <th>cnt_open_agr_90</th>\n",
       "    </tr>\n",
       "  </thead>\n",
       "  <tbody>\n",
       "    <tr>\n",
       "      <th>0</th>\n",
       "      <td>cash</td>\n",
       "      <td>55000</td>\n",
       "      <td>687</td>\n",
       "      <td>38000</td>\n",
       "      <td>5</td>\n",
       "      <td>5</td>\n",
       "      <td>4</td>\n",
       "      <td>6</td>\n",
       "      <td>6</td>\n",
       "      <td>7</td>\n",
       "      <td>0</td>\n",
       "      <td>0</td>\n",
       "      <td>0</td>\n",
       "      <td>1</td>\n",
       "      <td>4817</td>\n",
       "      <td>-1</td>\n",
       "      <td>-1</td>\n",
       "      <td>BANK</td>\n",
       "      <td>0</td>\n",
       "      <td>0</td>\n",
       "      <td>0</td>\n",
       "      <td>0</td>\n",
       "    </tr>\n",
       "    <tr>\n",
       "      <th>1</th>\n",
       "      <td>cash</td>\n",
       "      <td>218771</td>\n",
       "      <td>666</td>\n",
       "      <td>95000</td>\n",
       "      <td>5</td>\n",
       "      <td>5</td>\n",
       "      <td>3</td>\n",
       "      <td>3</td>\n",
       "      <td>3</td>\n",
       "      <td>3</td>\n",
       "      <td>0</td>\n",
       "      <td>0</td>\n",
       "      <td>0</td>\n",
       "      <td>1</td>\n",
       "      <td>3973</td>\n",
       "      <td>-1</td>\n",
       "      <td>-1</td>\n",
       "      <td>BANK</td>\n",
       "      <td>0</td>\n",
       "      <td>0</td>\n",
       "      <td>0</td>\n",
       "      <td>0</td>\n",
       "    </tr>\n",
       "    <tr>\n",
       "      <th>2</th>\n",
       "      <td>cash</td>\n",
       "      <td>106233</td>\n",
       "      <td>671</td>\n",
       "      <td>50000</td>\n",
       "      <td>5</td>\n",
       "      <td>5</td>\n",
       "      <td>3</td>\n",
       "      <td>10</td>\n",
       "      <td>10</td>\n",
       "      <td>10</td>\n",
       "      <td>4</td>\n",
       "      <td>4</td>\n",
       "      <td>4</td>\n",
       "      <td>1</td>\n",
       "      <td>3698</td>\n",
       "      <td>-1</td>\n",
       "      <td>-1</td>\n",
       "      <td>BANK</td>\n",
       "      <td>0</td>\n",
       "      <td>0</td>\n",
       "      <td>0</td>\n",
       "      <td>0</td>\n",
       "    </tr>\n",
       "    <tr>\n",
       "      <th>3</th>\n",
       "      <td>cash</td>\n",
       "      <td>130671</td>\n",
       "      <td>678</td>\n",
       "      <td>30000</td>\n",
       "      <td>5</td>\n",
       "      <td>5</td>\n",
       "      <td>3</td>\n",
       "      <td>6</td>\n",
       "      <td>6</td>\n",
       "      <td>6</td>\n",
       "      <td>0</td>\n",
       "      <td>0</td>\n",
       "      <td>0</td>\n",
       "      <td>1</td>\n",
       "      <td>4374</td>\n",
       "      <td>-1</td>\n",
       "      <td>-1</td>\n",
       "      <td>BANK</td>\n",
       "      <td>1</td>\n",
       "      <td>0</td>\n",
       "      <td>0</td>\n",
       "      <td>0</td>\n",
       "    </tr>\n",
       "    <tr>\n",
       "      <th>4</th>\n",
       "      <td>cash</td>\n",
       "      <td>190000</td>\n",
       "      <td>633</td>\n",
       "      <td>35000</td>\n",
       "      <td>5</td>\n",
       "      <td>1</td>\n",
       "      <td>2</td>\n",
       "      <td>4</td>\n",
       "      <td>4</td>\n",
       "      <td>4</td>\n",
       "      <td>1</td>\n",
       "      <td>1</td>\n",
       "      <td>1</td>\n",
       "      <td>1</td>\n",
       "      <td>5729</td>\n",
       "      <td>-1</td>\n",
       "      <td>-1</td>\n",
       "      <td>BANK</td>\n",
       "      <td>1</td>\n",
       "      <td>0</td>\n",
       "      <td>0</td>\n",
       "      <td>0</td>\n",
       "    </tr>\n",
       "  </tbody>\n",
       "</table>\n",
       "</div>"
      ],
      "text/plain": [
       "  product_grp  requested_sum  used_score  personal_income  es_1  es_2  es_3  \\\n",
       "0        cash          55000         687            38000     5     5     4   \n",
       "1        cash         218771         666            95000     5     5     3   \n",
       "2        cash         106233         671            50000     5     5     3   \n",
       "3        cash         130671         678            30000     5     5     3   \n",
       "4        cash         190000         633            35000     5     1     2   \n",
       "\n",
       "   cnt_all_apps_last7days  cnt_all_apps_last30days  cnt_all_apps_last90days  \\\n",
       "0                       6                        6                        7   \n",
       "1                       3                        3                        3   \n",
       "2                      10                       10                       10   \n",
       "3                       6                        6                        6   \n",
       "4                       4                        4                        4   \n",
       "\n",
       "   cnt_refused_apps_last7days  cnt_refused_apps_last30days  \\\n",
       "0                           0                            0   \n",
       "1                           0                            0   \n",
       "2                           4                            4   \n",
       "3                           0                            0   \n",
       "4                           1                            1   \n",
       "\n",
       "   cnt_refused_apps_last90days  online_flg  bureau_hist_due  \\\n",
       "0                            0           1             4817   \n",
       "1                            0           1             3973   \n",
       "2                            4           1             3698   \n",
       "3                            0           1             4374   \n",
       "4                            1           1             5729   \n",
       "\n",
       "   appnumberofappslm  count_bureau_credits_less_730_days client_segment  \\\n",
       "0                 -1                                  -1           BANK   \n",
       "1                 -1                                  -1           BANK   \n",
       "2                 -1                                  -1           BANK   \n",
       "3                 -1                                  -1           BANK   \n",
       "4                 -1                                  -1           BANK   \n",
       "\n",
       "   target  cnt_open_agr_7  cnt_open_agr_30  cnt_open_agr_90  \n",
       "0       0               0                0                0  \n",
       "1       0               0                0                0  \n",
       "2       0               0                0                0  \n",
       "3       1               0                0                0  \n",
       "4       1               0                0                0  "
      ]
     },
     "execution_count": 4,
     "metadata": {},
     "output_type": "execute_result"
    }
   ],
   "source": [
    "df.head()"
   ]
  },
  {
   "cell_type": "code",
   "execution_count": 5,
   "id": "ca2ef339-7ab9-4059-8672-8d5e71545057",
   "metadata": {},
   "outputs": [],
   "source": [
    "y = df[['target']]\n",
    "X = df.drop(columns=['target'])"
   ]
  },
  {
   "cell_type": "code",
   "execution_count": 6,
   "id": "5c5fadee-d16f-4bb0-b224-03f105febc82",
   "metadata": {},
   "outputs": [],
   "source": [
    "cat_features = X.select_dtypes(include=['object', 'category']).columns.tolist()"
   ]
  },
  {
   "cell_type": "code",
   "execution_count": 7,
   "id": "ae70f3ff-59e2-43fe-b6b7-1f1cce9817eb",
   "metadata": {},
   "outputs": [],
   "source": [
    "X = X.reset_index(drop=True)\n",
    "y = y.reset_index(drop=True)"
   ]
  },
  {
   "cell_type": "code",
   "execution_count": 8,
   "id": "4d8d5835-7d8d-4be1-bfbd-1a401fbe7029",
   "metadata": {},
   "outputs": [],
   "source": [
    "n = len(X)\n",
    "train_end = int(n * 0.7)\n",
    "val_end = int(n * 0.85)\n",
    "#сплит по времени, датасет отсортирован по дате заявке\n",
    "X_train, y_train = X[:train_end], y[:train_end]\n",
    "X_val, y_val = X[train_end:val_end], y[train_end:val_end]\n",
    "X_test, y_test = X[val_end:], y[val_end:]"
   ]
  },
  {
   "cell_type": "markdown",
   "id": "99ffa666-fe70-4428-9b21-36d0f0cc2e3f",
   "metadata": {},
   "source": [
    "### === Обучение CatBoost со стандартными параметрами ==="
   ]
  },
  {
   "cell_type": "code",
   "execution_count": 9,
   "id": "31e4930a-6a8b-414c-8e24-61c0b3a593f4",
   "metadata": {},
   "outputs": [],
   "source": [
    "model_default = CatBoostClassifier(\n",
    "    cat_features=cat_features,\n",
    "    auto_class_weights=\"Balanced\",\n",
    "    iterations=500,\n",
    "    learning_rate=0.05,\n",
    "    depth=6,\n",
    "    verbose=100,\n",
    "    random_seed=42\n",
    ")"
   ]
  },
  {
   "cell_type": "code",
   "execution_count": 10,
   "id": "7de3ab49-62e7-437a-bc9c-fc5e00e076f7",
   "metadata": {},
   "outputs": [
    {
     "name": "stdout",
     "output_type": "stream",
     "text": [
      "0:\tlearn: 0.6823399\ttest: 0.6825822\tbest: 0.6825822 (0)\ttotal: 86.4ms\tremaining: 43.1s\n",
      "100:\tlearn: 0.5499289\ttest: 0.5566157\tbest: 0.5566157 (100)\ttotal: 2.57s\tremaining: 10.2s\n",
      "200:\tlearn: 0.5399528\ttest: 0.5492753\tbest: 0.5492753 (200)\ttotal: 5.1s\tremaining: 7.59s\n",
      "300:\tlearn: 0.5319584\ttest: 0.5435884\tbest: 0.5435884 (300)\ttotal: 7.68s\tremaining: 5.08s\n",
      "400:\tlearn: 0.5255308\ttest: 0.5398400\tbest: 0.5398400 (400)\ttotal: 10.2s\tremaining: 2.51s\n",
      "499:\tlearn: 0.5205885\ttest: 0.5375761\tbest: 0.5375761 (499)\ttotal: 12.7s\tremaining: 0us\n",
      "\n",
      "bestTest = 0.5375760657\n",
      "bestIteration = 499\n",
      "\n"
     ]
    },
    {
     "data": {
      "text/plain": [
       "<catboost.core.CatBoostClassifier at 0x7f1b0daf3190>"
      ]
     },
     "execution_count": 10,
     "metadata": {},
     "output_type": "execute_result"
    }
   ],
   "source": [
    "model_default.fit(X_train, y_train, eval_set=(X_val, y_val), use_best_model=True)"
   ]
  },
  {
   "cell_type": "code",
   "execution_count": 11,
   "id": "95d93ff1-b6cd-47d1-b6a6-3e469d574377",
   "metadata": {},
   "outputs": [
    {
     "name": "stdout",
     "output_type": "stream",
     "text": [
      "Default model:\n",
      "ROC AUC: 0.805178353157236\n",
      "Precision: 0.288122750520932\n",
      "Recall: 0.7482781239750738\n"
     ]
    }
   ],
   "source": [
    "#валидация:\n",
    "y_val_pred = model_default.predict(X_val)\n",
    "y_val_proba = model_default.predict_proba(X_val)[:, 1]\n",
    "\n",
    "print(\"Default model:\")\n",
    "print(\"ROC AUC:\", roc_auc_score(y_val, y_val_proba))\n",
    "print(\"Precision:\", precision_score(y_val, y_val_pred))\n",
    "print(\"Recall:\", recall_score(y_val, y_val_pred))"
   ]
  },
  {
   "cell_type": "code",
   "execution_count": 12,
   "id": "39a02090-0c41-41a5-a996-ece80a89c2dc",
   "metadata": {},
   "outputs": [
    {
     "data": {
      "text/plain": [
       "array([[27628, 11274],\n",
       "       [ 1535,  4563]])"
      ]
     },
     "execution_count": 12,
     "metadata": {},
     "output_type": "execute_result"
    }
   ],
   "source": [
    "sklearn.metrics.confusion_matrix(y_val, y_val_pred)"
   ]
  },
  {
   "cell_type": "markdown",
   "id": "43529cdc-7a74-413e-b336-1716c298ec11",
   "metadata": {},
   "source": [
    "### === Подбор гиперпараметров по сетке ==="
   ]
  },
  {
   "cell_type": "code",
   "execution_count": 13,
   "id": "8c2352d7-2c6b-48ea-b5e0-ba470b7b0012",
   "metadata": {},
   "outputs": [],
   "source": [
    "param_grid = {\n",
    "    'iterations': [500, 1000],\n",
    "    'learning_rate': [0.001, 0.05, 0.08, 0.1, 0.5],\n",
    "    'depth': [4, 6, 8]\n",
    "}"
   ]
  },
  {
   "cell_type": "code",
   "execution_count": 14,
   "id": "c484cd8a-2bf4-4a86-b3df-c798abe69104",
   "metadata": {},
   "outputs": [
    {
     "name": "stdout",
     "output_type": "stream",
     "text": [
      "end of iteration/n\n",
      "end of iteration/n\n",
      "end of iteration/n\n",
      "end of iteration/n\n",
      "end of iteration/n\n",
      "end of iteration/n\n",
      "end of iteration/n\n",
      "end of iteration/n\n",
      "end of iteration/n\n",
      "end of iteration/n\n",
      "end of iteration/n\n",
      "end of iteration/n\n",
      "end of iteration/n\n",
      "end of iteration/n\n",
      "end of iteration/n\n",
      "end of iteration/n\n",
      "end of iteration/n\n",
      "end of iteration/n\n",
      "end of iteration/n\n",
      "end of iteration/n\n",
      "end of iteration/n\n",
      "end of iteration/n\n",
      "end of iteration/n\n",
      "end of iteration/n\n",
      "end of iteration/n\n",
      "end of iteration/n\n",
      "end of iteration/n\n",
      "end of iteration/n\n",
      "end of iteration/n\n",
      "end of iteration/n\n"
     ]
    }
   ],
   "source": [
    "results = []\n",
    "\n",
    "for iterations, lr, depth in product(param_grid['iterations'], param_grid['learning_rate'], param_grid['depth']):\n",
    "    model = CatBoostClassifier(\n",
    "        cat_features=cat_features,\n",
    "        auto_class_weights=\"Balanced\",\n",
    "        iterations=iterations,\n",
    "        learning_rate=lr,\n",
    "        depth=depth,\n",
    "        verbose=0,\n",
    "        random_seed=42\n",
    "    )\n",
    "    model.fit(X_train, y_train)\n",
    "    val_proba = model.predict_proba(X_val)[:, 1]\n",
    "    val_auc = roc_auc_score(y_val, val_proba)\n",
    "\n",
    "    results.append({\n",
    "        'iterations': iterations,\n",
    "        'learning_rate': lr,\n",
    "        'depth': depth,\n",
    "        'roc_auc': val_auc\n",
    "    })\n",
    "    print('end of iteration/n')"
   ]
  },
  {
   "cell_type": "code",
   "execution_count": 15,
   "id": "b29396ec-ab7e-428e-8b87-eab67891cd73",
   "metadata": {},
   "outputs": [
    {
     "name": "stdout",
     "output_type": "stream",
     "text": [
      "Лучшие параметры: {'iterations': 1000, 'learning_rate': 0.08, 'depth': 6, 'roc_auc': 0.8107260983393967}\n"
     ]
    }
   ],
   "source": [
    "#лучший набор параметров\n",
    "best_params = sorted(results, key=lambda x: x['roc_auc'], reverse=True)[0]\n",
    "print(\"Лучшие параметры:\", best_params)"
   ]
  },
  {
   "cell_type": "markdown",
   "id": "fa61a173-b537-439f-a132-e4e15ef3d5ff",
   "metadata": {},
   "source": [
    "### === Повторное обучение на train+val с лучшими параметрами ==="
   ]
  },
  {
   "cell_type": "code",
   "execution_count": 16,
   "id": "67468762-ee07-4bd9-a829-b314c6c6d7cb",
   "metadata": {},
   "outputs": [
    {
     "name": "stdout",
     "output_type": "stream",
     "text": [
      "0:\tlearn: 0.6757506\ttotal: 28.6ms\tremaining: 28.6s\n",
      "100:\tlearn: 0.5440467\ttotal: 2.66s\tremaining: 23.7s\n",
      "200:\tlearn: 0.5318935\ttotal: 5.31s\tremaining: 21.1s\n",
      "300:\tlearn: 0.5233679\ttotal: 8.04s\tremaining: 18.7s\n",
      "400:\tlearn: 0.5172544\ttotal: 10.8s\tremaining: 16.1s\n",
      "500:\tlearn: 0.5118575\ttotal: 13.5s\tremaining: 13.5s\n",
      "600:\tlearn: 0.5073125\ttotal: 16.3s\tremaining: 10.8s\n",
      "700:\tlearn: 0.5032569\ttotal: 19s\tremaining: 8.1s\n",
      "800:\tlearn: 0.4995653\ttotal: 21.7s\tremaining: 5.39s\n",
      "900:\tlearn: 0.4960694\ttotal: 24.4s\tremaining: 2.68s\n",
      "999:\tlearn: 0.4926716\ttotal: 27.4s\tremaining: 0us\n"
     ]
    },
    {
     "data": {
      "text/plain": [
       "<catboost.core.CatBoostClassifier at 0x7f1b0daf2830>"
      ]
     },
     "execution_count": 16,
     "metadata": {},
     "output_type": "execute_result"
    }
   ],
   "source": [
    "X_train_full = pd.concat([X_train, X_val])\n",
    "y_train_full = pd.concat([y_train, y_val])\n",
    "\n",
    "model_best = CatBoostClassifier(\n",
    "    cat_features=cat_features,\n",
    "    auto_class_weights=\"Balanced\",\n",
    "    iterations=best_params['iterations'],\n",
    "    learning_rate=best_params['learning_rate'],\n",
    "    depth=best_params['depth'],\n",
    "    verbose=100,\n",
    "    random_seed=42\n",
    ")\n",
    "\n",
    "model_best.fit(X_train_full, y_train_full)"
   ]
  },
  {
   "cell_type": "markdown",
   "id": "cefde747-bafd-4ecd-9208-6723f2943d6e",
   "metadata": {},
   "source": [
    "### === Оценка трешхолда на валидации ==="
   ]
  },
  {
   "cell_type": "code",
   "execution_count": 17,
   "id": "ae203359-824f-4c06-ac99-2e8f9f7af1eb",
   "metadata": {},
   "outputs": [
    {
     "name": "stdout",
     "output_type": "stream",
     "text": [
      "Лучший порог по precision на валидации: 0.99\n",
      "Precision: 1.0000, Recall: 0.0010, ROC AUC: 0.8409\n"
     ]
    }
   ],
   "source": [
    "val_proba = model_best.predict_proba(X_val)[:, 1]\n",
    "y_val_true = y_val.values\n",
    "\n",
    "thresholds = np.linspace(0.01, 0.99, 100)\n",
    "metrics = []\n",
    "\n",
    "for t in thresholds:\n",
    "    y_pred = (val_proba >= t).astype(int)\n",
    "    precision = precision_score(y_val_true, y_pred, zero_division=0)\n",
    "    recall = recall_score(y_val_true, y_pred)\n",
    "    auc = roc_auc_score(y_val_true, val_proba)\n",
    "    metrics.append({\n",
    "        'threshold': t,\n",
    "        'precision': precision,\n",
    "        'recall': recall,\n",
    "        'roc_auc': auc\n",
    "    })\n",
    "\n",
    "df_thresh = pd.DataFrame(metrics)\n",
    "best_row = df_thresh.loc[df_thresh['precision'].idxmax()]\n",
    "best_threshold = best_row['threshold']\n",
    "\n",
    "print(f\"Лучший порог по precision на валидации: {best_threshold:.2f}\")\n",
    "print(f\"Precision: {best_row['precision']:.4f}, Recall: {best_row['recall']:.4f}, ROC AUC: {best_row['roc_auc']:.4f}\")"
   ]
  },
  {
   "cell_type": "markdown",
   "id": "e1493461-98e9-4be0-8b01-c7f39f004aa4",
   "metadata": {},
   "source": [
    "### === Оценка качества на тесте с подходящим трешхолдом ==="
   ]
  },
  {
   "cell_type": "code",
   "execution_count": 18,
   "id": "ac240a80-1cc6-44cb-95fc-7292dde39f6f",
   "metadata": {},
   "outputs": [
    {
     "name": "stdout",
     "output_type": "stream",
     "text": [
      "\n",
      "Результаты на тесте (threshold = 0.99):\n",
      "Precision: 1.0000\n",
      "Recall:    0.0011\n",
      "ROC AUC:   0.8159\n",
      "Confusion matrix:\n",
      "[[39546     0]\n",
      " [ 5448     6]]\n"
     ]
    }
   ],
   "source": [
    "test_proba = model_best.predict_proba(X_test)[:, 1]\n",
    "y_test_true = y_test.values \n",
    "\n",
    "#ставим наилучший порог\n",
    "y_test_pred = (test_proba >= best_threshold).astype(int)\n",
    "\n",
    "test_precision = precision_score(y_test_true, y_test_pred, zero_division=0)\n",
    "test_recall = recall_score(y_test_true, y_test_pred)\n",
    "test_auc = roc_auc_score(y_test_true, test_proba)\n",
    "cm = confusion_matrix(y_test_true, y_test_pred)\n",
    "\n",
    "print(f\"\\nРезультаты на тесте (threshold = {best_threshold:.2f}):\")\n",
    "print(f\"Precision: {test_precision:.4f}\")\n",
    "print(f\"Recall:    {test_recall:.4f}\")\n",
    "print(f\"ROC AUC:   {test_auc:.4f}\")\n",
    "print(\"Confusion matrix:\")\n",
    "print(cm)"
   ]
  },
  {
   "cell_type": "markdown",
   "id": "9900a4c1-9ddd-4444-8324-0741c28eb767",
   "metadata": {},
   "source": [
    "### === График зависимости трешхолда от метрик на валидации ==="
   ]
  },
  {
   "cell_type": "code",
   "execution_count": 19,
   "id": "f466c580-5344-4cfd-9885-70d1e09b1590",
   "metadata": {},
   "outputs": [],
   "source": [
    "def plot_precision_recall_curve(y_true, y_proba):\n",
    "    thresholds = np.linspace(0.01, 0.99, 100)\n",
    "    precisions = []\n",
    "    recalls = []\n",
    "    f1s = []\n",
    "\n",
    "    for t in thresholds:\n",
    "        y_pred = (y_proba >= t).astype(int)\n",
    "        precisions.append(precision_score(y_true, y_pred, zero_division=0))\n",
    "        recalls.append(recall_score(y_true, y_pred))\n",
    "        f1s.append(f1_score(y_true, y_pred, zero_division=0))\n",
    "\n",
    "    plt.figure(figsize=(10, 6))\n",
    "    plt.plot(thresholds, precisions, label='Precision')\n",
    "    plt.plot(thresholds, recalls, label='Recall')\n",
    "    plt.plot(thresholds, f1s, label='F1-score')\n",
    "    plt.xlabel('Порог вероятности')\n",
    "    plt.ylabel('Значение метрики')\n",
    "    plt.title('Зависимость Precision / Recall / F1 от порога')\n",
    "    plt.legend()\n",
    "    plt.grid(True)\n",
    "    plt.show()"
   ]
  },
  {
   "cell_type": "code",
   "execution_count": 20,
   "id": "20348c01-64a7-4d19-ae4e-30dd49c6dd40",
   "metadata": {},
   "outputs": [
    {
     "data": {
      "image/png": "[encoded data removed]",
      "text/plain": [
       "<Figure size 1000x600 with 1 Axes>"
      ]
     },
     "metadata": {},
     "output_type": "display_data"
    }
   ],
   "source": [
    "plot_precision_recall_curve(y_val, y_val_proba)"
   ]
  },
  {
   "cell_type": "markdown",
   "id": "c8e92c21-cd1d-4b70-803a-d9917a90c934",
   "metadata": {},
   "source": [
    "###### Считаю наилучшим трешхолдом = 0.85, тк важнее немного пожертвовать precision, чтобы вырос recall, и при этом доля false positive решений не была заоблачной"
   ]
  },
  {
   "cell_type": "markdown",
   "id": "ae652835-b678-4efb-a3ec-f3d7687bd0de",
   "metadata": {},
   "source": [
    "### === Оценка качества на тесте с подходящим трешхолдом ==="
   ]
  },
  {
   "cell_type": "code",
   "execution_count": 21,
   "id": "81006930-5a3e-44bc-b497-f260b147f6bd",
   "metadata": {},
   "outputs": [
    {
     "name": "stdout",
     "output_type": "stream",
     "text": [
      "\n",
      "Результаты на тесте (threshold = 0.85):\n",
      "Precision: 0.6276\n",
      "Recall:    0.1678\n",
      "ROC AUC:   0.8159\n",
      "Confusion matrix:\n",
      "[[39003   543]\n",
      " [ 4539   915]]\n"
     ]
    }
   ],
   "source": [
    "test_proba = model_best.predict_proba(X_test)[:, 1]\n",
    "y_test_true = y_test.values  # если y_test — Series\n",
    "\n",
    "#ставлю порог, оцененный по графику\n",
    "y_test_pred = (test_proba >= 0.85).astype(int)\n",
    "\n",
    "test_precision = precision_score(y_test_true, y_test_pred, zero_division=0)\n",
    "test_recall = recall_score(y_test_true, y_test_pred)\n",
    "test_auc = roc_auc_score(y_test_true, test_proba)\n",
    "cm = confusion_matrix(y_test_true, y_test_pred)\n",
    "\n",
    "print(f\"\\nРезультаты на тесте (threshold = {0.85:.2f}):\")\n",
    "print(f\"Precision: {test_precision:.4f}\")\n",
    "print(f\"Recall:    {test_recall:.4f}\")\n",
    "print(f\"ROC AUC:   {test_auc:.4f}\")\n",
    "print(\"Confusion matrix:\")\n",
    "print(cm)"
   ]
  },
  {
   "cell_type": "code",
   "execution_count": 22,
   "id": "895c507e-8412-4f0b-8a96-d8a8fa31bc0b",
   "metadata": {},
   "outputs": [],
   "source": [
    "def flow_cut(y_prob, threshold):\n",
    "    return (y_prob >= threshold).mean()"
   ]
  },
  {
   "cell_type": "code",
   "execution_count": 30,
   "id": "12273d07-dfd3-47e7-9933-fe7ff4bafdc7",
   "metadata": {},
   "outputs": [
    {
     "name": "stdout",
     "output_type": "stream",
     "text": [
      "Flow cut with best threshold: 0.0324\n"
     ]
    }
   ],
   "source": [
    "print(f\"Flow cut with best threshold: {flow_cut(test_proba, 0.85):.4f}\")"
   ]
  },
  {
   "cell_type": "markdown",
   "id": "4b6bab31-b63c-44da-a285-0770f164dcb8",
   "metadata": {},
   "source": [
    "### Метрики,если срез в 4%"
   ]
  },
  {
   "cell_type": "code",
   "execution_count": 32,
   "id": "45a3fcc5-0a5e-4272-8ed2-af90934fbf74",
   "metadata": {},
   "outputs": [],
   "source": [
    "def get_threshold_for_top_percent(y_proba, top_percent=0.04):\n",
    "    k = int(len(y_proba) * top_percent)\n",
    "    sorted_proba = np.sort(y_proba)\n",
    "    return sorted_proba[-k]"
   ]
  },
  {
   "cell_type": "code",
   "execution_count": 29,
   "id": "6910ff6f-5ba4-4c89-8b4f-710305d5a464",
   "metadata": {},
   "outputs": [
    {
     "name": "stdout",
     "output_type": "stream",
     "text": [
      "Threshold @ top 4%: 0.8328\n",
      "Precision@4%: 0.5956\n",
      "Recall@4%:    0.1966\n",
      "Отсечено:     4.00% заявок\n"
     ]
    }
   ],
   "source": [
    "threshold_4pct = get_threshold_for_top_percent(test_proba, top_percent=0.04)\n",
    "y_pred_top4 = (test_proba >= threshold_4pct).astype(int)\n",
    "\n",
    "#метрики в этом срезе:\n",
    "precision = precision_score(y_test_true, y_pred_top4)\n",
    "recall = recall_score(y_test_true, y_pred_top4)\n",
    "stream_cut = (y_pred_top4 == 1).mean()\n",
    "\n",
    "print(f\"Threshold @ top 4%: {threshold_4pct:.4f}\")\n",
    "print(f\"Precision@4%: {precision:.4f}\")\n",
    "print(f\"Recall@4%:    {recall:.4f}\")\n",
    "print(f\"Отсечено:     {stream_cut*100:.2f}% заявок\")"
   ]
  },
  {
   "cell_type": "markdown",
   "id": "755fedf3-86ff-4440-a502-add5656850e8",
   "metadata": {},
   "source": [
    "### === Важность фичей ==="
   ]
  },
  {
   "cell_type": "code",
   "execution_count": 34,
   "id": "3332a4e7-582a-4dfc-910f-d69e77e1a1eb",
   "metadata": {},
   "outputs": [
    {
     "data": {
      "image/png": "[encoded data removed]",
      "text/plain": [
       "<Figure size 1200x600 with 1 Axes>"
      ]
     },
     "metadata": {},
     "output_type": "display_data"
    },
    {
     "name": "stdout",
     "output_type": "stream",
     "text": [
      "                           Feature Id  Importances\n",
      "0  count_bureau_credits_less_730_days    15.327035\n",
      "1                          used_score    14.825898\n",
      "2                       requested_sum     8.232297\n",
      "3             cnt_all_apps_last90days     8.065857\n",
      "4         cnt_refused_apps_last90days     7.668686\n",
      "5              cnt_all_apps_last7days     6.622942\n",
      "6                      client_segment     5.978991\n",
      "7                     personal_income     5.818032\n",
      "8                     bureau_hist_due     4.705667\n",
      "9          cnt_refused_apps_last7days     4.094488\n"
     ]
    }
   ],
   "source": [
    "importances = model_best.get_feature_importance(prettified=True)\n",
    "\n",
    "importances_sorted = importances.sort_values(by=\"Importances\", ascending=False)\n",
    "\n",
    "plt.figure(figsize=(12, 6))\n",
    "plt.barh(importances_sorted[\"Feature Id\"], importances_sorted[\"Importances\"])\n",
    "plt.xlabel(\"Важность (Gain)\")\n",
    "plt.title(\"Важность признаков (CatBoost)\")\n",
    "plt.gca().invert_yaxis()\n",
    "plt.tight_layout()\n",
    "plt.show()\n",
    "\n",
    "#топ-10\n",
    "print(importances_sorted.head(10))"
   ]
  },
  {
   "cell_type": "code",
   "execution_count": null,
   "id": "14563694-c339-4cee-bb93-f0df25c030ac",
   "metadata": {},
   "outputs": [],
   "source": []
  }
 ],
 "metadata": {
  "kernelspec": {
   "display_name": "pip_base",
   "language": "python",
   "name": "pip_base"
  },
  "language_info": {
   "codemirror_mode": {
    "name": "ipython",
    "version": 3
   },
   "file_extension": ".py",
   "mimetype": "text/x-python",
   "name": "python",
   "nbconvert_exporter": "python",
   "pygments_lexer": "ipython3",
   "version": "3.10.12"
  }
 },
 "nbformat": 4,
 "nbformat_minor": 5
}

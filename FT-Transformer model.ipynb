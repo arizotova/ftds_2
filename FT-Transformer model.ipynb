{
 "cells": [
  {
   "cell_type": "code",
   "execution_count": 1,
   "id": "7fd3adb6-da0c-4e2b-b027-d6e207123c25",
   "metadata": {},
   "outputs": [
    {
     "name": "stdout",
     "output_type": "stream",
     "text": [
      "Looking in indexes: https://nexus.isb/repository/pypiorg-pypi-proxy/simple, https://nexus.isb/repository/deml-prod-pypi-hosted/simple\n",
      "Requirement already satisfied: delu in /opt/pip_base/lib/python3.10/site-packages (0.0.26)\n",
      "Collecting rtdl_revisiting_models\n",
      "  Downloading https://nexus.isb/repository/pypiorg-pypi-proxy/packages/rtdl-revisiting-models/0.0.2/rtdl_revisiting_models-0.0.2-py3-none-any.whl (12 kB)\n",
      "Requirement already satisfied: torch<3,>=1.9 in /opt/pip_base/lib/python3.10/site-packages (from delu) (2.6.0+cu124)\n",
      "Requirement already satisfied: numpy<3,>=1.21 in /opt/pip_base/lib/python3.10/site-packages (from delu) (1.26.4)\n",
      "Requirement already satisfied: nvidia-nccl-cu12==2.21.5 in /opt/pip_base/lib/python3.10/site-packages (from torch<3,>=1.9->delu) (2.21.5)\n",
      "Requirement already satisfied: nvidia-cublas-cu12==12.4.5.8 in /opt/pip_base/lib/python3.10/site-packages (from torch<3,>=1.9->delu) (12.4.5.8)\n",
      "Requirement already satisfied: nvidia-curand-cu12==10.3.5.147 in /opt/pip_base/lib/python3.10/site-packages (from torch<3,>=1.9->delu) (10.3.5.147)\n",
      "Requirement already satisfied: fsspec in /opt/pip_base/lib/python3.10/site-packages (from torch<3,>=1.9->delu) (2025.3.0)\n",
      "Requirement already satisfied: nvidia-cudnn-cu12==9.1.0.70 in /opt/pip_base/lib/python3.10/site-packages (from torch<3,>=1.9->delu) (9.1.0.70)\n",
      "Requirement already satisfied: triton==3.2.0 in /opt/pip_base/lib/python3.10/site-packages (from torch<3,>=1.9->delu) (3.2.0)\n",
      "Requirement already satisfied: nvidia-nvtx-cu12==12.4.127 in /opt/pip_base/lib/python3.10/site-packages (from torch<3,>=1.9->delu) (12.4.127)\n",
      "Requirement already satisfied: typing-extensions>=4.10.0 in /opt/pip_base/lib/python3.10/site-packages (from torch<3,>=1.9->delu) (4.12.2)\n",
      "Requirement already satisfied: jinja2 in /opt/pip_base/lib/python3.10/site-packages (from torch<3,>=1.9->delu) (3.1.4)\n",
      "Requirement already satisfied: nvidia-cusolver-cu12==11.6.1.9 in /opt/pip_base/lib/python3.10/site-packages (from torch<3,>=1.9->delu) (11.6.1.9)\n",
      "Requirement already satisfied: networkx in /opt/pip_base/lib/python3.10/site-packages (from torch<3,>=1.9->delu) (3.4.2)\n",
      "Requirement already satisfied: filelock in /opt/pip_base/lib/python3.10/site-packages (from torch<3,>=1.9->delu) (3.18.0)\n",
      "Requirement already satisfied: nvidia-cuda-runtime-cu12==12.4.127 in /opt/pip_base/lib/python3.10/site-packages (from torch<3,>=1.9->delu) (12.4.127)\n",
      "Requirement already satisfied: sympy==1.13.1 in /opt/pip_base/lib/python3.10/site-packages (from torch<3,>=1.9->delu) (1.13.1)\n",
      "Requirement already satisfied: nvidia-cuda-nvrtc-cu12==12.4.127 in /opt/pip_base/lib/python3.10/site-packages (from torch<3,>=1.9->delu) (12.4.127)\n",
      "Requirement already satisfied: nvidia-cuda-cupti-cu12==12.4.127 in /opt/pip_base/lib/python3.10/site-packages (from torch<3,>=1.9->delu) (12.4.127)\n",
      "Requirement already satisfied: nvidia-nvjitlink-cu12==12.4.127 in /opt/pip_base/lib/python3.10/site-packages (from torch<3,>=1.9->delu) (12.4.127)\n",
      "Requirement already satisfied: nvidia-cufft-cu12==11.2.1.3 in /opt/pip_base/lib/python3.10/site-packages (from torch<3,>=1.9->delu) (11.2.1.3)\n",
      "Requirement already satisfied: nvidia-cusparselt-cu12==0.6.2 in /opt/pip_base/lib/python3.10/site-packages (from torch<3,>=1.9->delu) (0.6.2)\n",
      "Requirement already satisfied: nvidia-cusparse-cu12==12.3.1.170 in /opt/pip_base/lib/python3.10/site-packages (from torch<3,>=1.9->delu) (12.3.1.170)\n",
      "Requirement already satisfied: mpmath<1.4,>=1.1.0 in /opt/pip_base/lib/python3.10/site-packages (from sympy==1.13.1->torch<3,>=1.9->delu) (1.3.0)\n",
      "Requirement already satisfied: MarkupSafe>=2.0 in /opt/pip_base/lib/python3.10/site-packages (from jinja2->torch<3,>=1.9->delu) (3.0.2)\n",
      "Installing collected packages: rtdl_revisiting_models\n",
      "Successfully installed rtdl_revisiting_models-0.0.2\n"
     ]
    }
   ],
   "source": [
    "!pip install delu rtdl_revisiting_models"
   ]
  },
  {
   "cell_type": "code",
   "execution_count": 2,
   "id": "623efc75-5c3a-4e61-ad33-b4eb0e43848f",
   "metadata": {},
   "outputs": [
    {
     "name": "stdout",
     "output_type": "stream",
     "text": [
      "Looking in indexes: https://nexus.isb/repository/pypiorg-pypi-proxy/simple, https://nexus.isb/repository/deml-prod-pypi-hosted/simple\n",
      "Requirement already satisfied: torch in /opt/pip_base/lib/python3.10/site-packages (2.6.0+cu124)\n",
      "Requirement already satisfied: torchvision in /opt/pip_base/lib/python3.10/site-packages (0.21.0+cu124)\n",
      "Requirement already satisfied: torchaudio in /opt/pip_base/lib/python3.10/site-packages (2.6.0+cu124)\n",
      "Requirement already satisfied: nvidia-curand-cu12==10.3.5.147 in /opt/pip_base/lib/python3.10/site-packages (from torch) (10.3.5.147)\n",
      "Requirement already satisfied: nvidia-cusparselt-cu12==0.6.2 in /opt/pip_base/lib/python3.10/site-packages (from torch) (0.6.2)\n",
      "Requirement already satisfied: typing-extensions>=4.10.0 in /opt/pip_base/lib/python3.10/site-packages (from torch) (4.12.2)\n",
      "Requirement already satisfied: nvidia-cufft-cu12==11.2.1.3 in /opt/pip_base/lib/python3.10/site-packages (from torch) (11.2.1.3)\n",
      "Requirement already satisfied: nvidia-nvtx-cu12==12.4.127 in /opt/pip_base/lib/python3.10/site-packages (from torch) (12.4.127)\n",
      "Requirement already satisfied: jinja2 in /opt/pip_base/lib/python3.10/site-packages (from torch) (3.1.4)\n",
      "Requirement already satisfied: fsspec in /opt/pip_base/lib/python3.10/site-packages (from torch) (2025.3.0)\n",
      "Requirement already satisfied: nvidia-nvjitlink-cu12==12.4.127 in /opt/pip_base/lib/python3.10/site-packages (from torch) (12.4.127)\n",
      "Requirement already satisfied: sympy==1.13.1 in /opt/pip_base/lib/python3.10/site-packages (from torch) (1.13.1)\n",
      "Requirement already satisfied: nvidia-cusparse-cu12==12.3.1.170 in /opt/pip_base/lib/python3.10/site-packages (from torch) (12.3.1.170)\n",
      "Requirement already satisfied: nvidia-cuda-nvrtc-cu12==12.4.127 in /opt/pip_base/lib/python3.10/site-packages (from torch) (12.4.127)\n",
      "Requirement already satisfied: nvidia-cublas-cu12==12.4.5.8 in /opt/pip_base/lib/python3.10/site-packages (from torch) (12.4.5.8)\n",
      "Requirement already satisfied: triton==3.2.0 in /opt/pip_base/lib/python3.10/site-packages (from torch) (3.2.0)\n",
      "Requirement already satisfied: nvidia-nccl-cu12==2.21.5 in /opt/pip_base/lib/python3.10/site-packages (from torch) (2.21.5)\n",
      "Requirement already satisfied: nvidia-cusolver-cu12==11.6.1.9 in /opt/pip_base/lib/python3.10/site-packages (from torch) (11.6.1.9)\n",
      "Requirement already satisfied: filelock in /opt/pip_base/lib/python3.10/site-packages (from torch) (3.18.0)\n",
      "Requirement already satisfied: networkx in /opt/pip_base/lib/python3.10/site-packages (from torch) (3.4.2)\n",
      "Requirement already satisfied: nvidia-cuda-runtime-cu12==12.4.127 in /opt/pip_base/lib/python3.10/site-packages (from torch) (12.4.127)\n",
      "Requirement already satisfied: nvidia-cuda-cupti-cu12==12.4.127 in /opt/pip_base/lib/python3.10/site-packages (from torch) (12.4.127)\n",
      "Requirement already satisfied: nvidia-cudnn-cu12==9.1.0.70 in /opt/pip_base/lib/python3.10/site-packages (from torch) (9.1.0.70)\n",
      "Requirement already satisfied: mpmath<1.4,>=1.1.0 in /opt/pip_base/lib/python3.10/site-packages (from sympy==1.13.1->torch) (1.3.0)\n",
      "Requirement already satisfied: pillow!=8.3.*,>=5.3.0 in /opt/pip_base/lib/python3.10/site-packages (from torchvision) (11.1.0)\n",
      "Requirement already satisfied: numpy in /opt/pip_base/lib/python3.10/site-packages (from torchvision) (1.26.4)\n",
      "Requirement already satisfied: MarkupSafe>=2.0 in /opt/pip_base/lib/python3.10/site-packages (from jinja2->torch) (3.0.2)\n"
     ]
    }
   ],
   "source": [
    "!pip install torch torchvision torchaudio"
   ]
  },
  {
   "cell_type": "code",
   "execution_count": 3,
   "id": "9f5bf1b3-4666-4962-a910-990175d76388",
   "metadata": {},
   "outputs": [],
   "source": [
    "import pandas as pd\n",
    "import numpy as np\n",
    "import math\n",
    "import matplotlib.pyplot as plt\n",
    "\n",
    "from sklearn.preprocessing import LabelEncoder\n",
    "from sklearn.preprocessing import StandardScaler\n",
    "\n",
    "pd.set_option('display.max_rows', None)\n",
    "pd.set_option('display.max_columns', None)\n",
    "\n",
    "import delu\n",
    "from rtdl_revisiting_models import FTTransformer\n",
    "\n",
    "from tqdm.std import tqdm\n",
    "\n",
    "import torch\n",
    "import torch.nn as nn\n",
    "import torch.optim as optim\n",
    "from torch.utils.data import TensorDataset, DataLoader, Dataset\n",
    "from functools import partial\n",
    "import sklearn.model_selection\n",
    "import sklearn.preprocessing\n",
    "from sklearn.metrics import roc_auc_score, recall_score, precision_score, confusion_matrix, f1_score\n",
    "\n",
    "pd.set_option('display.max_columns', 500)\n",
    "pd.set_option('display.max_rows', 100)\n",
    "pd.set_option('max_colwidth', 500)"
   ]
  },
  {
   "cell_type": "code",
   "execution_count": 4,
   "id": "97488947-7046-4fc7-b705-a373dcbb5fe3",
   "metadata": {},
   "outputs": [],
   "source": [
    "device = torch.device(\"cuda\" if torch.cuda.is_available() else \"cpu\")"
   ]
  },
  {
   "cell_type": "markdown",
   "id": "3496e1fd-3c82-451a-b18b-717080e60f9b",
   "metadata": {},
   "source": [
    "### === Готовим данные для модели ==="
   ]
  },
  {
   "cell_type": "code",
   "execution_count": 5,
   "id": "9310c00d-d740-443c-a08e-89c4eca98a37",
   "metadata": {},
   "outputs": [],
   "source": [
    "df = pd.read_csv('iar_hse_data.csv')\n",
    "df.head()\n",
    "\n",
    "y = df[['target']]\n",
    "X = df.drop(columns=['target'])"
   ]
  },
  {
   "cell_type": "code",
   "execution_count": 6,
   "id": "475dcf54-2da4-4c8b-ac14-91df28900a75",
   "metadata": {},
   "outputs": [],
   "source": [
    "X_cat = X.select_dtypes(include=['object'])\n",
    "\n",
    "X_cat = X_cat.apply(LabelEncoder().fit_transform)\n",
    "\n",
    "X_float = X.select_dtypes(include=['float'])\n",
    "X_int_float = X.select_dtypes(include=['int64']).astype(np.float32)\n",
    "X_float = pd.concat([X_float, X_int_float], axis=1)\n",
    "X_float = X_float.astype(np.float32)\n",
    "\n",
    "float_features_cnt = X_float.shape[1]\n",
    "cat_features_card = [X_cat[x].nunique() for x in X_cat.columns]\n",
    "\n",
    "y = y.astype('float')"
   ]
  },
  {
   "cell_type": "code",
   "execution_count": 7,
   "id": "e1405976-10d5-41b2-9833-5192b791b9df",
   "metadata": {},
   "outputs": [],
   "source": [
    "X_float = X_float.to_numpy()\n",
    "X_cat = X_cat.to_numpy()\n",
    "y = y.to_numpy()\n",
    "y = y[:, 0]"
   ]
  },
  {
   "cell_type": "code",
   "execution_count": 8,
   "id": "8f1608ee-2ca7-449d-ba22-9f90d947fa41",
   "metadata": {},
   "outputs": [],
   "source": [
    "n = len(df)\n",
    "train_end = int(0.7 * n)\n",
    "val_end = int(0.85 * n)\n",
    "\n",
    "train_idx = np.arange(0, train_end)\n",
    "val_idx = np.arange(train_end, val_end)\n",
    "test_idx = np.arange(val_end, n)"
   ]
  },
  {
   "cell_type": "code",
   "execution_count": 9,
   "id": "7ed35822-f1d5-470e-a3cd-e767ec66c890",
   "metadata": {},
   "outputs": [],
   "source": [
    "data = {\n",
    "    'train' : {'x_float':X_float[train_idx], 'x_cat':X_cat[train_idx], 'y':y[train_idx]},\n",
    "    'val' : {'x_float':X_float[val_idx], 'x_cat':X_cat[val_idx], 'y':y[val_idx]},\n",
    "    'test' : {'x_float':X_float[test_idx], 'x_cat':X_cat[test_idx], 'y':y[test_idx]}\n",
    "}"
   ]
  },
  {
   "cell_type": "code",
   "execution_count": 10,
   "id": "35accc19-db3c-41ac-b150-8d90736bc3f3",
   "metadata": {},
   "outputs": [],
   "source": [
    "preprocessing = sklearn.preprocessing.StandardScaler().fit(data['train']['x_float'])\n",
    "\n",
    "for object in data:\n",
    "    data[object]['x_float'] = preprocessing.transform(data[object]['x_float'])"
   ]
  },
  {
   "cell_type": "code",
   "execution_count": 11,
   "id": "76e1e2ae-7845-444e-aedd-8ff341c37cac",
   "metadata": {},
   "outputs": [],
   "source": [
    "tensors = {\n",
    "    object: {k: torch.as_tensor(v, device=device) for k, v in data[object].items()} for object in data\n",
    "}"
   ]
  },
  {
   "cell_type": "markdown",
   "id": "cf488d72-4aa7-4ad6-8deb-41d111dc3240",
   "metadata": {},
   "source": [
    "### === Модель FT-Transformer ==="
   ]
  },
  {
   "cell_type": "code",
   "execution_count": 12,
   "id": "9f5e8dbf-1f78-4e42-a13c-9ee9f83c140d",
   "metadata": {},
   "outputs": [],
   "source": [
    "model = FTTransformer(\n",
    "    n_cont_features=float_features_cnt,\n",
    "    cat_cardinalities=cat_features_card,\n",
    "    d_out=1,\n",
    "    **FTTransformer.get_default_kwargs(),\n",
    ").to(device)\n",
    "optimizer = model.make_default_optimizer()"
   ]
  },
  {
   "cell_type": "code",
   "execution_count": 13,
   "id": "4f6e87e5-103d-48a0-a86b-e9da9aa42e5a",
   "metadata": {},
   "outputs": [],
   "source": [
    "def apply_model(batch):\n",
    "    return model(batch['x_float'], batch['x_cat']).squeeze(-1)"
   ]
  },
  {
   "cell_type": "code",
   "execution_count": 14,
   "id": "c93b2d1f-8261-416b-98c5-896d37e040c2",
   "metadata": {},
   "outputs": [],
   "source": [
    "pos_weight = 5\n",
    "loss_func = nn.BCEWithLogitsLoss(pos_weight = torch.tensor(pos_weight))"
   ]
  },
  {
   "cell_type": "code",
   "execution_count": 15,
   "id": "d4dda069-b096-48da-a741-aeea97e00764",
   "metadata": {},
   "outputs": [],
   "source": [
    "def evaluate(part, eval_batch_size, threshold=0.85):\n",
    "    model.eval()\n",
    "    with torch.inference_mode():\n",
    "        y_pred = (\n",
    "            torch.cat(\n",
    "                [\n",
    "                    apply_model(batch) for batch in delu.iter_batches(tensors[part], eval_batch_size)\n",
    "                ]\n",
    "            )\n",
    "            .cpu()\n",
    "        )\n",
    "        y_true = tensors[part]['y'].cpu().numpy()\n",
    "\n",
    "        y_pred = torch.sigmoid(y_pred).numpy()\n",
    "        test_y_pred = y_pred\n",
    "        y_pred = np.where(y_pred>=threshold, 1, 0)\n",
    "        score = sklearn.metrics.roc_auc_score(y_true, test_y_pred)\n",
    "        precision = sklearn.metrics.precision_score(y_true, y_pred)\n",
    "        recall = sklearn.metrics.recall_score(y_true, y_pred)\n",
    "        cm = confusion_matrix(y_true, y_pred)\n",
    "    return score, precision, recall, cm"
   ]
  },
  {
   "cell_type": "code",
   "execution_count": 16,
   "id": "120ecb5c-8072-40d6-b002-814ab469fe62",
   "metadata": {},
   "outputs": [
    {
     "name": "stdout",
     "output_type": "stream",
     "text": [
      "Device: cpu\n",
      "----------------------------------------------------------------------------------------\n",
      "\n"
     ]
    },
    {
     "name": "stderr",
     "output_type": "stream",
     "text": [
      "Epoch 0: 100%|██████████| 411/411 [00:36<00:00, 11.38it/s]\n"
     ]
    },
    {
     "name": "stdout",
     "output_type": "stream",
     "text": [
      "Rocauc: (val) 0.7821 [time] 0:00:38.702407\n",
      "Precision: (val) 0.5463 [time] 0:00:38.702603\n",
      "Recall: (val) 0.1113 [time] 0:00:38.702616\n",
      "\n"
     ]
    },
    {
     "name": "stderr",
     "output_type": "stream",
     "text": [
      "Epoch 1: 100%|██████████| 411/411 [00:35<00:00, 11.44it/s]\n"
     ]
    },
    {
     "name": "stdout",
     "output_type": "stream",
     "text": [
      "Rocauc: (val) 0.7878 [time] 0:01:16.543197\n",
      "Precision: (val) 0.5378 [time] 0:01:16.543282\n",
      "Recall: (val) 0.1492 [time] 0:01:16.543294\n",
      "\n"
     ]
    },
    {
     "name": "stderr",
     "output_type": "stream",
     "text": [
      "Epoch 2: 100%|██████████| 411/411 [00:35<00:00, 11.45it/s]\n"
     ]
    },
    {
     "name": "stdout",
     "output_type": "stream",
     "text": [
      "Rocauc: (val) 0.7890 [time] 0:01:54.411860\n",
      "Precision: (val) 0.5460 [time] 0:01:54.411959\n",
      "Recall: (val) 0.1441 [time] 0:01:54.411973\n",
      "\n"
     ]
    },
    {
     "name": "stderr",
     "output_type": "stream",
     "text": [
      "Epoch 3: 100%|██████████| 411/411 [00:36<00:00, 11.21it/s]\n"
     ]
    },
    {
     "name": "stdout",
     "output_type": "stream",
     "text": [
      "Rocauc: (val) 0.7920 [time] 0:02:32.987569\n",
      "Precision: (val) 0.5425 [time] 0:02:32.987664\n",
      "Recall: (val) 0.1550 [time] 0:02:32.987677\n",
      "\n"
     ]
    },
    {
     "name": "stderr",
     "output_type": "stream",
     "text": [
      "Epoch 4: 100%|██████████| 411/411 [00:36<00:00, 11.41it/s]\n"
     ]
    },
    {
     "name": "stdout",
     "output_type": "stream",
     "text": [
      "Rocauc: (val) 0.7930 [time] 0:03:11.479319\n",
      "Precision: (val) 0.5939 [time] 0:03:11.479412\n",
      "Recall: (val) 0.0923 [time] 0:03:11.479425\n",
      "\n"
     ]
    },
    {
     "name": "stderr",
     "output_type": "stream",
     "text": [
      "Epoch 5: 100%|██████████| 411/411 [00:36<00:00, 11.40it/s]\n"
     ]
    },
    {
     "name": "stdout",
     "output_type": "stream",
     "text": [
      "Rocauc: (val) 0.7953 [time] 0:03:49.437014\n",
      "Precision: (val) 0.6110 [time] 0:03:49.437096\n",
      "Recall: (val) 0.0726 [time] 0:03:49.437108\n",
      "\n"
     ]
    },
    {
     "name": "stderr",
     "output_type": "stream",
     "text": [
      "Epoch 6: 100%|██████████| 411/411 [00:34<00:00, 11.87it/s]\n"
     ]
    },
    {
     "name": "stdout",
     "output_type": "stream",
     "text": [
      "Rocauc: (val) 0.7938 [time] 0:04:25.812076\n",
      "Precision: (val) 0.5552 [time] 0:04:25.812158\n",
      "Recall: (val) 0.1320 [time] 0:04:25.812170\n",
      "\n"
     ]
    },
    {
     "name": "stderr",
     "output_type": "stream",
     "text": [
      "Epoch 7: 100%|██████████| 411/411 [00:34<00:00, 11.89it/s]\n"
     ]
    },
    {
     "name": "stdout",
     "output_type": "stream",
     "text": [
      "Rocauc: (val) 0.7966 [time] 0:05:02.239385\n",
      "Precision: (val) 0.6397 [time] 0:05:02.239473\n",
      "Recall: (val) 0.0713 [time] 0:05:02.239485\n",
      "\n"
     ]
    },
    {
     "name": "stderr",
     "output_type": "stream",
     "text": [
      "Epoch 8: 100%|██████████| 411/411 [00:35<00:00, 11.69it/s]\n"
     ]
    },
    {
     "name": "stdout",
     "output_type": "stream",
     "text": [
      "Rocauc: (val) 0.7980 [time] 0:05:39.854377\n",
      "Precision: (val) 0.6225 [time] 0:05:39.854461\n",
      "Recall: (val) 0.1033 [time] 0:05:39.854474\n",
      "\n"
     ]
    },
    {
     "name": "stderr",
     "output_type": "stream",
     "text": [
      "Epoch 9: 100%|██████████| 411/411 [00:35<00:00, 11.70it/s]\n"
     ]
    },
    {
     "name": "stdout",
     "output_type": "stream",
     "text": [
      "Rocauc: (val) 0.7929 [time] 0:06:17.306251\n",
      "Precision: (val) 0.5855 [time] 0:06:17.306362\n",
      "Recall: (val) 0.1112 [time] 0:06:17.306379\n",
      "\n"
     ]
    },
    {
     "name": "stderr",
     "output_type": "stream",
     "text": [
      "Epoch 10: 100%|██████████| 411/411 [00:35<00:00, 11.73it/s]\n"
     ]
    },
    {
     "name": "stdout",
     "output_type": "stream",
     "text": [
      "Rocauc: (val) 0.8006 [time] 0:06:54.228005\n",
      "Precision: (val) 0.6106 [time] 0:06:54.228085\n",
      "Recall: (val) 0.1286 [time] 0:06:54.228097\n",
      "\n"
     ]
    },
    {
     "name": "stderr",
     "output_type": "stream",
     "text": [
      "Epoch 11: 100%|██████████| 411/411 [00:34<00:00, 11.76it/s]\n"
     ]
    },
    {
     "name": "stdout",
     "output_type": "stream",
     "text": [
      "Rocauc: (val) 0.8008 [time] 0:07:31.110714\n",
      "Precision: (val) 0.5970 [time] 0:07:31.110795\n",
      "Recall: (val) 0.1105 [time] 0:07:31.110807\n",
      "\n"
     ]
    },
    {
     "name": "stderr",
     "output_type": "stream",
     "text": [
      "Epoch 12: 100%|██████████| 411/411 [00:34<00:00, 11.81it/s]\n"
     ]
    },
    {
     "name": "stdout",
     "output_type": "stream",
     "text": [
      "Rocauc: (val) 0.8009 [time] 0:08:07.803470\n",
      "Precision: (val) 0.6141 [time] 0:08:07.803553\n",
      "Recall: (val) 0.1310 [time] 0:08:07.803565\n",
      "\n"
     ]
    },
    {
     "name": "stderr",
     "output_type": "stream",
     "text": [
      "Epoch 13: 100%|██████████| 411/411 [00:35<00:00, 11.61it/s]\n"
     ]
    },
    {
     "name": "stdout",
     "output_type": "stream",
     "text": [
      "Rocauc: (val) 0.8028 [time] 0:08:45.265871\n",
      "Precision: (val) 0.6225 [time] 0:08:45.265963\n",
      "Recall: (val) 0.1417 [time] 0:08:45.265976\n",
      "\n"
     ]
    },
    {
     "name": "stderr",
     "output_type": "stream",
     "text": [
      "Epoch 14: 100%|██████████| 411/411 [00:35<00:00, 11.73it/s]\n"
     ]
    },
    {
     "name": "stdout",
     "output_type": "stream",
     "text": [
      "Rocauc: (val) 0.8023 [time] 0:09:22.628636\n",
      "Precision: (val) 0.6209 [time] 0:09:22.628718\n",
      "Recall: (val) 0.1343 [time] 0:09:22.628730\n",
      "\n"
     ]
    },
    {
     "name": "stderr",
     "output_type": "stream",
     "text": [
      "Epoch 15: 100%|██████████| 411/411 [00:35<00:00, 11.65it/s]\n"
     ]
    },
    {
     "name": "stdout",
     "output_type": "stream",
     "text": [
      "Rocauc: (val) 0.8031 [time] 0:09:59.835496\n",
      "Precision: (val) 0.6138 [time] 0:09:59.835582\n",
      "Recall: (val) 0.1353 [time] 0:09:59.835594\n",
      "\n"
     ]
    },
    {
     "name": "stderr",
     "output_type": "stream",
     "text": [
      "Epoch 16: 100%|██████████| 411/411 [00:35<00:00, 11.66it/s]\n"
     ]
    },
    {
     "name": "stdout",
     "output_type": "stream",
     "text": [
      "Rocauc: (val) 0.8014 [time] 0:10:36.976719\n",
      "Precision: (val) 0.6130 [time] 0:10:36.976801\n",
      "Recall: (val) 0.1374 [time] 0:10:36.976813\n",
      "\n"
     ]
    },
    {
     "name": "stderr",
     "output_type": "stream",
     "text": [
      "Epoch 17: 100%|██████████| 411/411 [00:35<00:00, 11.69it/s]\n"
     ]
    },
    {
     "name": "stdout",
     "output_type": "stream",
     "text": [
      "Rocauc: (val) 0.7999 [time] 0:11:14.029778\n",
      "Precision: (val) 0.6020 [time] 0:11:14.029860\n",
      "Recall: (val) 0.1312 [time] 0:11:14.029872\n",
      "\n"
     ]
    },
    {
     "name": "stderr",
     "output_type": "stream",
     "text": [
      "Epoch 18: 100%|██████████| 411/411 [00:36<00:00, 11.35it/s]\n"
     ]
    },
    {
     "name": "stdout",
     "output_type": "stream",
     "text": [
      "Rocauc: (val) 0.8053 [time] 0:11:52.277321\n",
      "Precision: (val) 0.5889 [time] 0:11:52.277405\n",
      "Recall: (val) 0.1640 [time] 0:11:52.277417\n",
      "\n"
     ]
    },
    {
     "name": "stderr",
     "output_type": "stream",
     "text": [
      "Epoch 19: 100%|██████████| 411/411 [00:35<00:00, 11.45it/s]\n"
     ]
    },
    {
     "name": "stdout",
     "output_type": "stream",
     "text": [
      "Rocauc: (val) 0.8053 [time] 0:12:30.095350\n",
      "Precision: (val) 0.6009 [time] 0:12:30.095428\n",
      "Recall: (val) 0.1563 [time] 0:12:30.095440\n",
      "\n"
     ]
    },
    {
     "name": "stderr",
     "output_type": "stream",
     "text": [
      "Epoch 20: 100%|██████████| 411/411 [00:34<00:00, 11.75it/s]\n"
     ]
    },
    {
     "name": "stdout",
     "output_type": "stream",
     "text": [
      "Rocauc: (val) 0.8024 [time] 0:13:06.966645\n",
      "Precision: (val) 0.5816 [time] 0:13:06.966726\n",
      "Recall: (val) 0.1812 [time] 0:13:06.966738\n",
      "\n"
     ]
    },
    {
     "name": "stderr",
     "output_type": "stream",
     "text": [
      "Epoch 21: 100%|██████████| 411/411 [00:35<00:00, 11.73it/s]\n"
     ]
    },
    {
     "name": "stdout",
     "output_type": "stream",
     "text": [
      "Rocauc: (val) 0.8043 [time] 0:13:43.882501\n",
      "Precision: (val) 0.6277 [time] 0:13:43.882584\n",
      "Recall: (val) 0.1391 [time] 0:13:43.882595\n",
      "\n"
     ]
    },
    {
     "name": "stderr",
     "output_type": "stream",
     "text": [
      "Epoch 22: 100%|██████████| 411/411 [00:35<00:00, 11.66it/s]\n"
     ]
    },
    {
     "name": "stdout",
     "output_type": "stream",
     "text": [
      "Rocauc: (val) 0.8043 [time] 0:14:21.200449\n",
      "Precision: (val) 0.6338 [time] 0:14:21.200532\n",
      "Recall: (val) 0.1087 [time] 0:14:21.200544\n",
      "\n"
     ]
    },
    {
     "name": "stderr",
     "output_type": "stream",
     "text": [
      "Epoch 23: 100%|██████████| 411/411 [00:35<00:00, 11.43it/s]\n"
     ]
    },
    {
     "name": "stdout",
     "output_type": "stream",
     "text": [
      "Rocauc: (val) 0.8044 [time] 0:14:59.511246\n",
      "Precision: (val) 0.6599 [time] 0:14:59.511327\n",
      "Recall: (val) 0.1171 [time] 0:14:59.511339\n",
      "\n"
     ]
    },
    {
     "name": "stderr",
     "output_type": "stream",
     "text": [
      "Epoch 24: 100%|██████████| 411/411 [00:35<00:00, 11.65it/s]\n"
     ]
    },
    {
     "name": "stdout",
     "output_type": "stream",
     "text": [
      "Rocauc: (val) 0.8056 [time] 0:15:36.699749\n",
      "Precision: (val) 0.6181 [time] 0:15:36.699833\n",
      "Recall: (val) 0.1468 [time] 0:15:36.699845\n",
      "\n"
     ]
    },
    {
     "name": "stderr",
     "output_type": "stream",
     "text": [
      "Epoch 25: 100%|██████████| 411/411 [00:35<00:00, 11.73it/s]\n"
     ]
    },
    {
     "name": "stdout",
     "output_type": "stream",
     "text": [
      "Rocauc: (val) 0.8051 [time] 0:16:13.580392\n",
      "Precision: (val) 0.6180 [time] 0:16:13.580474\n",
      "Recall: (val) 0.1546 [time] 0:16:13.580487\n",
      "\n"
     ]
    },
    {
     "name": "stderr",
     "output_type": "stream",
     "text": [
      "Epoch 26: 100%|██████████| 411/411 [00:35<00:00, 11.58it/s]\n"
     ]
    },
    {
     "name": "stdout",
     "output_type": "stream",
     "text": [
      "Rocauc: (val) 0.8027 [time] 0:16:50.960934\n",
      "Precision: (val) 0.6393 [time] 0:16:50.961019\n",
      "Recall: (val) 0.1340 [time] 0:16:50.961031\n",
      "\n"
     ]
    },
    {
     "name": "stderr",
     "output_type": "stream",
     "text": [
      "Epoch 27: 100%|██████████| 411/411 [00:35<00:00, 11.47it/s]\n"
     ]
    },
    {
     "name": "stdout",
     "output_type": "stream",
     "text": [
      "Rocauc: (val) 0.8053 [time] 0:17:29.108503\n",
      "Precision: (val) 0.5961 [time] 0:17:29.108587\n",
      "Recall: (val) 0.1791 [time] 0:17:29.108599\n",
      "\n"
     ]
    },
    {
     "name": "stderr",
     "output_type": "stream",
     "text": [
      "Epoch 28: 100%|██████████| 411/411 [00:36<00:00, 11.33it/s]\n"
     ]
    },
    {
     "name": "stdout",
     "output_type": "stream",
     "text": [
      "Rocauc: (val) 0.8051 [time] 0:18:07.268591\n",
      "Precision: (val) 0.5705 [time] 0:18:07.268673\n",
      "Recall: (val) 0.1963 [time] 0:18:07.268685\n",
      "\n"
     ]
    },
    {
     "name": "stderr",
     "output_type": "stream",
     "text": [
      "Epoch 29: 100%|██████████| 411/411 [00:35<00:00, 11.63it/s]\n"
     ]
    },
    {
     "name": "stdout",
     "output_type": "stream",
     "text": [
      "Rocauc: (val) 0.8004 [time] 0:18:44.472701\n",
      "Precision: (val) 0.6176 [time] 0:18:44.472785\n",
      "Recall: (val) 0.1425 [time] 0:18:44.472797\n",
      "\n"
     ]
    },
    {
     "name": "stderr",
     "output_type": "stream",
     "text": [
      "Epoch 30: 100%|██████████| 411/411 [00:35<00:00, 11.70it/s]\n"
     ]
    },
    {
     "name": "stdout",
     "output_type": "stream",
     "text": [
      "Rocauc: (val) 0.8025 [time] 0:19:21.366128\n",
      "Precision: (val) 0.6222 [time] 0:19:21.366210\n",
      "Recall: (val) 0.1461 [time] 0:19:21.366223\n",
      "\n"
     ]
    },
    {
     "name": "stderr",
     "output_type": "stream",
     "text": [
      "Epoch 31: 100%|██████████| 411/411 [00:35<00:00, 11.64it/s]\n"
     ]
    },
    {
     "name": "stdout",
     "output_type": "stream",
     "text": [
      "Rocauc: (val) 0.7996 [time] 0:19:58.685019\n",
      "Precision: (val) 0.5897 [time] 0:19:58.685102\n",
      "Recall: (val) 0.1779 [time] 0:19:58.685114\n",
      "\n"
     ]
    },
    {
     "name": "stderr",
     "output_type": "stream",
     "text": [
      "Epoch 32: 100%|██████████| 411/411 [00:36<00:00, 11.35it/s]\n"
     ]
    },
    {
     "name": "stdout",
     "output_type": "stream",
     "text": [
      "Rocauc: (val) 0.8039 [time] 0:20:36.914714\n",
      "Precision: (val) 0.6567 [time] 0:20:36.914797\n",
      "Recall: (val) 0.1264 [time] 0:20:36.914810\n",
      "\n"
     ]
    },
    {
     "name": "stderr",
     "output_type": "stream",
     "text": [
      "Epoch 33: 100%|██████████| 411/411 [00:35<00:00, 11.45it/s]\n"
     ]
    },
    {
     "name": "stdout",
     "output_type": "stream",
     "text": [
      "Rocauc: (val) 0.8039 [time] 0:21:14.712811\n",
      "Precision: (val) 0.6007 [time] 0:21:14.712889\n",
      "Recall: (val) 0.1668 [time] 0:21:14.712909\n",
      "\n"
     ]
    },
    {
     "name": "stderr",
     "output_type": "stream",
     "text": [
      "Epoch 34: 100%|██████████| 411/411 [00:35<00:00, 11.57it/s]\n"
     ]
    },
    {
     "name": "stdout",
     "output_type": "stream",
     "text": [
      "Rocauc: (val) 0.8062 [time] 0:21:52.057374\n",
      "Precision: (val) 0.6232 [time] 0:21:52.057456\n",
      "Recall: (val) 0.1597 [time] 0:21:52.057469\n",
      "\n"
     ]
    },
    {
     "name": "stderr",
     "output_type": "stream",
     "text": [
      "Epoch 35: 100%|██████████| 411/411 [00:35<00:00, 11.62it/s]\n"
     ]
    },
    {
     "name": "stdout",
     "output_type": "stream",
     "text": [
      "Rocauc: (val) 0.8039 [time] 0:22:29.351948\n",
      "Precision: (val) 0.6035 [time] 0:22:29.352033\n",
      "Recall: (val) 0.1683 [time] 0:22:29.352045\n",
      "\n"
     ]
    },
    {
     "name": "stderr",
     "output_type": "stream",
     "text": [
      "Epoch 36: 100%|██████████| 411/411 [00:35<00:00, 11.49it/s]\n"
     ]
    },
    {
     "name": "stdout",
     "output_type": "stream",
     "text": [
      "Rocauc: (val) 0.8055 [time] 0:23:07.319750\n",
      "Precision: (val) 0.6056 [time] 0:23:07.319833\n",
      "Recall: (val) 0.1730 [time] 0:23:07.319844\n",
      "\n"
     ]
    },
    {
     "name": "stderr",
     "output_type": "stream",
     "text": [
      "Epoch 37: 100%|██████████| 411/411 [00:35<00:00, 11.42it/s]\n"
     ]
    },
    {
     "name": "stdout",
     "output_type": "stream",
     "text": [
      "Rocauc: (val) 0.8032 [time] 0:23:45.157797\n",
      "Precision: (val) 0.6464 [time] 0:23:45.157882\n",
      "Recall: (val) 0.1340 [time] 0:23:45.157894\n",
      "\n"
     ]
    },
    {
     "name": "stderr",
     "output_type": "stream",
     "text": [
      "Epoch 38: 100%|██████████| 411/411 [00:35<00:00, 11.71it/s]\n"
     ]
    },
    {
     "name": "stdout",
     "output_type": "stream",
     "text": [
      "Rocauc: (val) 0.8042 [time] 0:24:22.148147\n",
      "Precision: (val) 0.6102 [time] 0:24:22.148230\n",
      "Recall: (val) 0.1630 [time] 0:24:22.148243\n",
      "\n"
     ]
    },
    {
     "name": "stderr",
     "output_type": "stream",
     "text": [
      "Epoch 39: 100%|██████████| 411/411 [00:35<00:00, 11.65it/s]\n"
     ]
    },
    {
     "name": "stdout",
     "output_type": "stream",
     "text": [
      "Rocauc: (val) 0.8037 [time] 0:24:59.274277\n",
      "Precision: (val) 0.6063 [time] 0:24:59.274359\n",
      "Recall: (val) 0.1768 [time] 0:24:59.274371\n",
      "\n"
     ]
    },
    {
     "name": "stderr",
     "output_type": "stream",
     "text": [
      "Epoch 40: 100%|██████████| 411/411 [00:35<00:00, 11.63it/s]\n"
     ]
    },
    {
     "name": "stdout",
     "output_type": "stream",
     "text": [
      "Rocauc: (val) 0.8045 [time] 0:25:36.739398\n",
      "Precision: (val) 0.6118 [time] 0:25:36.739480\n",
      "Recall: (val) 0.1678 [time] 0:25:36.739493\n",
      "\n"
     ]
    },
    {
     "name": "stderr",
     "output_type": "stream",
     "text": [
      "Epoch 41: 100%|██████████| 411/411 [00:35<00:00, 11.65it/s]\n"
     ]
    },
    {
     "name": "stdout",
     "output_type": "stream",
     "text": [
      "Rocauc: (val) 0.8037 [time] 0:26:14.010363\n",
      "Precision: (val) 0.6497 [time] 0:26:14.010447\n",
      "Recall: (val) 0.1338 [time] 0:26:14.010459\n",
      "\n"
     ]
    },
    {
     "name": "stderr",
     "output_type": "stream",
     "text": [
      "Epoch 42: 100%|██████████| 411/411 [00:36<00:00, 11.41it/s]\n"
     ]
    },
    {
     "name": "stdout",
     "output_type": "stream",
     "text": [
      "Rocauc: (val) 0.8040 [time] 0:26:51.945172\n",
      "Precision: (val) 0.6156 [time] 0:26:51.945255\n",
      "Recall: (val) 0.1568 [time] 0:26:51.945268\n",
      "\n"
     ]
    },
    {
     "name": "stderr",
     "output_type": "stream",
     "text": [
      "Epoch 43: 100%|██████████| 411/411 [00:35<00:00, 11.74it/s]\n"
     ]
    },
    {
     "name": "stdout",
     "output_type": "stream",
     "text": [
      "Rocauc: (val) 0.7997 [time] 0:27:28.838036\n",
      "Precision: (val) 0.6339 [time] 0:27:28.838122\n",
      "Recall: (val) 0.1289 [time] 0:27:28.838135\n",
      "\n"
     ]
    },
    {
     "name": "stderr",
     "output_type": "stream",
     "text": [
      "Epoch 44: 100%|██████████| 411/411 [00:35<00:00, 11.57it/s]\n"
     ]
    },
    {
     "name": "stdout",
     "output_type": "stream",
     "text": [
      "Rocauc: (val) 0.8030 [time] 0:28:06.172872\n",
      "Precision: (val) 0.6113 [time] 0:28:06.172963\n",
      "Recall: (val) 0.1581 [time] 0:28:06.172975\n",
      "\n"
     ]
    },
    {
     "name": "stderr",
     "output_type": "stream",
     "text": [
      "Epoch 45: 100%|██████████| 411/411 [00:35<00:00, 11.59it/s]\n"
     ]
    },
    {
     "name": "stdout",
     "output_type": "stream",
     "text": [
      "Rocauc: (val) 0.8030 [time] 0:28:43.912198\n",
      "Precision: (val) 0.5908 [time] 0:28:43.912283\n",
      "Recall: (val) 0.1797 [time] 0:28:43.912295\n",
      "\n"
     ]
    },
    {
     "name": "stderr",
     "output_type": "stream",
     "text": [
      "Epoch 46: 100%|██████████| 411/411 [00:35<00:00, 11.52it/s]\n"
     ]
    },
    {
     "name": "stdout",
     "output_type": "stream",
     "text": [
      "Rocauc: (val) 0.8040 [time] 0:29:21.448149\n",
      "Precision: (val) 0.6012 [time] 0:29:21.448231\n",
      "Recall: (val) 0.1701 [time] 0:29:21.448243\n",
      "\n"
     ]
    },
    {
     "name": "stderr",
     "output_type": "stream",
     "text": [
      "Epoch 47: 100%|██████████| 411/411 [00:35<00:00, 11.64it/s]\n"
     ]
    },
    {
     "name": "stdout",
     "output_type": "stream",
     "text": [
      "Rocauc: (val) 0.8040 [time] 0:29:58.694236\n",
      "Precision: (val) 0.6162 [time] 0:29:58.694319\n",
      "Recall: (val) 0.1601 [time] 0:29:58.694332\n",
      "\n"
     ]
    },
    {
     "name": "stderr",
     "output_type": "stream",
     "text": [
      "Epoch 48: 100%|██████████| 411/411 [00:35<00:00, 11.62it/s]\n"
     ]
    },
    {
     "name": "stdout",
     "output_type": "stream",
     "text": [
      "Rocauc: (val) 0.8025 [time] 0:30:35.941695\n",
      "Precision: (val) 0.6075 [time] 0:30:35.941778\n",
      "Recall: (val) 0.1640 [time] 0:30:35.941790\n",
      "\n"
     ]
    },
    {
     "name": "stderr",
     "output_type": "stream",
     "text": [
      "Epoch 49: 100%|██████████| 411/411 [00:35<00:00, 11.47it/s]\n"
     ]
    },
    {
     "name": "stdout",
     "output_type": "stream",
     "text": [
      "Rocauc: (val) 0.8018 [time] 0:31:13.814073\n",
      "Precision: (val) 0.5894 [time] 0:31:13.814159\n",
      "Recall: (val) 0.1930 [time] 0:31:13.814171\n",
      "\n"
     ]
    }
   ],
   "source": [
    "n_epochs = 50\n",
    "patience = 100\n",
    "\n",
    "eval_batch_size = 512\n",
    "batch_size = 512\n",
    "epoch_size = math.ceil(len(train_idx) / batch_size)\n",
    "timer = delu.tools.Timer()\n",
    "early_stopping = delu.tools.EarlyStopping(patience, mode='max')\n",
    "\n",
    "print(f\"Device: {device}\")\n",
    "print(\"-\" * 88 + \"\\n\")\n",
    "timer.run()\n",
    "for epoch in range(n_epochs):\n",
    "    for batch in tqdm(\n",
    "        delu.iter_batches(tensors['train'], batch_size, shuffle=True),\n",
    "        desc=f\"Epoch {epoch}\",\n",
    "        total=epoch_size,\n",
    "    ):\n",
    "        model.train()\n",
    "        optimizer.zero_grad()\n",
    "        loss = loss_func(apply_model(batch), batch['y'])\n",
    "        loss.backward()\n",
    "        optimizer.step()\n",
    "\n",
    "    val_score, val_precision, val_recall, prob_val = evaluate('val', eval_batch_size)\n",
    "    print(f\"Rocauc: (val) {val_score:.4f} [time] {timer}\")\n",
    "    print(f\"Precision: (val) {val_precision:.4f} [time] {timer}\")\n",
    "    print(f\"Recall: (val) {val_recall:.4f} [time] {timer}\")\n",
    "\n",
    "    early_stopping.update(val_score)\n",
    "    if early_stopping.should_stop():\n",
    "        break\n",
    "\n",
    "    print()"
   ]
  },
  {
   "cell_type": "code",
   "execution_count": 17,
   "id": "0a03e42f-0044-4b3c-ba56-6e1e1bdd0100",
   "metadata": {},
   "outputs": [
    {
     "name": "stdout",
     "output_type": "stream",
     "text": [
      "Rocauc: (test) 0.8060\n",
      "Precision: (test) 0.5706\n",
      "Recall: (test) 0.1823\n"
     ]
    }
   ],
   "source": [
    "test_score, test_precision, test_recall, prob_test= evaluate('test', eval_batch_size)\n",
    "print(f\"Rocauc: (test) {test_score:.4f}\")\n",
    "print(f\"Precision: (test) {test_precision:.4f}\")\n",
    "print(f\"Recall: (test) {test_recall:.4f}\")"
   ]
  },
  {
   "cell_type": "markdown",
   "id": "12a770e9-536c-42e1-8b87-c392ecee2030",
   "metadata": {},
   "source": [
    "### === Наилучший порог по графику ==="
   ]
  },
  {
   "cell_type": "code",
   "execution_count": 18,
   "id": "138b443a-d896-452a-820c-ee6f6c615b2b",
   "metadata": {},
   "outputs": [],
   "source": [
    "def plot_precision_recall_curve(y_true, y_proba):\n",
    "    thresholds = np.linspace(0.01, 0.99, 100)\n",
    "    precisions = []\n",
    "    recalls = []\n",
    "    f1s = []\n",
    "\n",
    "    for t in thresholds:\n",
    "        y_pred = (y_proba >= t).astype(int)\n",
    "        precisions.append(precision_score(y_true, y_pred, zero_division=0))\n",
    "        recalls.append(recall_score(y_true, y_pred))\n",
    "        f1s.append(f1_score(y_true, y_pred, zero_division=0))\n",
    "\n",
    "    plt.figure(figsize=(10, 6))\n",
    "    plt.plot(thresholds, precisions, label='Precision')\n",
    "    plt.plot(thresholds, recalls, label='Recall')\n",
    "    plt.plot(thresholds, f1s, label='F1-score')\n",
    "    plt.xlabel('Порог вероятности')\n",
    "    plt.ylabel('Значение метрики')\n",
    "    plt.title('Зависимость Precision / Recall / F1 от порога')\n",
    "    plt.legend()\n",
    "    plt.grid(True)\n",
    "    plt.show()"
   ]
  },
  {
   "cell_type": "code",
   "execution_count": 19,
   "id": "f5717026-a47f-434b-b197-ea05c0010d57",
   "metadata": {},
   "outputs": [
    {
     "data": {
      "image/png": "[encoded data removed]",
      "text/plain": [
       "<Figure size 1000x600 with 1 Axes>"
      ]
     },
     "metadata": {},
     "output_type": "display_data"
    }
   ],
   "source": [
    "model.eval()\n",
    "with torch.no_grad():\n",
    "    val_logits = model(tensors['val']['x_float'], tensors['val']['x_cat'])\n",
    "    val_proba = torch.sigmoid(val_logits).cpu().numpy()\n",
    "    val_true = tensors['val']['y'].cpu().numpy()\n",
    "\n",
    "plot_precision_recall_curve(val_true, val_proba)"
   ]
  },
  {
   "cell_type": "markdown",
   "id": "3012ada2-345e-4c14-b60b-bcb8ed7c8939",
   "metadata": {},
   "source": [
    "###### Считаю наилучшим трешхолдом =0.85 , тк важнее немного пожертвовать precision, чтобы вырос recall, и при этом доля false positive решений не была заоблачной"
   ]
  },
  {
   "cell_type": "markdown",
   "id": "3ee2f861-8a93-4e15-b43a-261316fb3dbf",
   "metadata": {},
   "source": [
    "### === Оценка качества на тесте с подходящим трешхолдом ==="
   ]
  },
  {
   "cell_type": "code",
   "execution_count": 42,
   "id": "ca36ba91-2e72-4194-8c19-35ab518846a5",
   "metadata": {},
   "outputs": [],
   "source": [
    "def evaluate_on_test(model, tensors, threshold):\n",
    "    model.eval()\n",
    "    with torch.no_grad():\n",
    "        probs = torch.sigmoid(model(tensors['test']['x_float'], tensors['test']['x_cat'])).cpu().numpy()\n",
    "    y_true = tensors['test']['y'].cpu().numpy()\n",
    "    y_pred = (probs >= threshold).astype(int)\n",
    "\n",
    "    precision = precision_score(y_true, y_pred, zero_division=0)\n",
    "    recall = recall_score(y_true, y_pred)\n",
    "    auc = roc_auc_score(y_true, probs)\n",
    "    cm = confusion_matrix(y_true, y_pred)\n",
    "\n",
    "    print(f\"\\nФинальные метрики на тесте при threshold = {threshold:.2f}:\")\n",
    "    print(f\"Precision: {precision:.4f}\")\n",
    "    print(f\"Recall:    {recall:.4f}\")\n",
    "    print(f\"ROC AUC:   {auc:.4f}\")\n",
    "    print(\"Confusion Matrix:\\n\", cm)\n",
    "    return probs, y_true"
   ]
  },
  {
   "cell_type": "code",
   "execution_count": 43,
   "id": "f249555f-d7ae-4173-84ec-618421b6a8c1",
   "metadata": {},
   "outputs": [
    {
     "name": "stdout",
     "output_type": "stream",
     "text": [
      "\n",
      "Финальные метрики на тесте при threshold = 0.85:\n",
      "Precision: 0.5706\n",
      "Recall:    0.1823\n",
      "ROC AUC:   0.8060\n",
      "Confusion Matrix:\n",
      " [[38798   748]\n",
      " [ 4460   994]]\n"
     ]
    }
   ],
   "source": [
    "test_proba, y_true = evaluate_on_test(model, tensors, threshold=0.85)"
   ]
  },
  {
   "cell_type": "code",
   "execution_count": 44,
   "id": "e2118baf-6301-44c4-a388-6f90e9c696d3",
   "metadata": {},
   "outputs": [],
   "source": [
    "def flow_cut(y_prob, threshold):\n",
    "    return (y_prob >= threshold).mean()"
   ]
  },
  {
   "cell_type": "code",
   "execution_count": 45,
   "id": "3a45a55f-86b0-4dc8-8790-90d8ebfa089a",
   "metadata": {},
   "outputs": [
    {
     "name": "stdout",
     "output_type": "stream",
     "text": [
      "Flow cut with best threshold: 0.0387\n"
     ]
    }
   ],
   "source": [
    "print(f\"Flow cut with best threshold: {flow_cut(test_proba, 0.85):.4f}\")"
   ]
  },
  {
   "cell_type": "markdown",
   "id": "5d6dc21b-c13d-4d94-8599-5359c8495d5d",
   "metadata": {},
   "source": [
    "### Метрики,если срез в 4%"
   ]
  },
  {
   "cell_type": "code",
   "execution_count": 58,
   "id": "466ac77a-34fd-4131-bade-7685032ef9e8",
   "metadata": {},
   "outputs": [],
   "source": [
    "def get_threshold_for_top_percent(y_proba, top_percent=0.04):\n",
    "    k = int(len(y_proba) * top_percent)\n",
    "    sorted_proba = np.sort(y_proba, axis=0)\n",
    "    return sorted_proba[-k]"
   ]
  },
  {
   "cell_type": "code",
   "execution_count": 59,
   "id": "ee071c8b-b5ab-4633-afc8-84b27accac26",
   "metadata": {},
   "outputs": [
    {
     "name": "stdout",
     "output_type": "stream",
     "text": [
      "Threshold @ top 4%: 0.8475\n",
      "Precision@4%: 0.5689\n",
      "Recall@4%:    0.1878\n",
      "Отсечено:     4.00% заявок\n"
     ]
    }
   ],
   "source": [
    "threshold_4pct = get_threshold_for_top_percent(test_proba, top_percent=0.04)\n",
    "y_pred_top4 = (test_proba >= threshold_4pct[0]).astype(int)\n",
    "\n",
    "#метрики в этом срезе:\n",
    "precision = precision_score(y_true, y_pred_top4)\n",
    "recall = recall_score(y_true, y_pred_top4)\n",
    "stream_cut = (y_pred_top4 == 1).mean()\n",
    "\n",
    "print(f\"Threshold @ top 4%: {threshold_4pct[0]:.4f}\")\n",
    "print(f\"Precision@4%: {precision:.4f}\")\n",
    "print(f\"Recall@4%:    {recall:.4f}\")\n",
    "print(f\"Отсечено:     {stream_cut*100:.2f}% заявок\")"
   ]
  },
  {
   "cell_type": "markdown",
   "id": "e64f8769-1ca9-44c1-924d-d6b27f9eb496",
   "metadata": {},
   "source": [
    "### === Важность фичей ==="
   ]
  },
  {
   "cell_type": "code",
   "execution_count": 60,
   "id": "48228a0a-2450-4d34-89df-ea0930a03f87",
   "metadata": {},
   "outputs": [],
   "source": [
    "def permutation_importance(model, tensors, feature_names=None, part='val'):\n",
    "    model.eval()\n",
    "\n",
    "    x_float = tensors[part]['x_float'].clone()\n",
    "    x_cat = tensors[part]['x_cat'].clone()\n",
    "    y_true = tensors[part]['y'].cpu().numpy()\n",
    "\n",
    "    with torch.no_grad():\n",
    "        base_preds = torch.sigmoid(model(x_float, x_cat)).cpu().numpy()\n",
    "    baseline_auc = roc_auc_score(y_true, base_preds)\n",
    "\n",
    "    importances = []\n",
    "    names = []\n",
    "\n",
    "    #перемешиваем числовые признаки\n",
    "    for i in range(x_float.shape[1]):\n",
    "        x_float_perm = x_float.clone()\n",
    "        x_float_perm[:, i] = x_float_perm[torch.randperm(len(x_float_perm)), i]\n",
    "        with torch.no_grad():\n",
    "            preds = torch.sigmoid(model(x_float_perm, x_cat)).cpu().numpy()\n",
    "        auc = roc_auc_score(y_true, preds)\n",
    "        importances.append(baseline_auc - auc)\n",
    "        if feature_names:\n",
    "            names.append(feature_names['float'][i])\n",
    "        else:\n",
    "            names.append(f'float_{i}')\n",
    "\n",
    "    #перемешиваем категориальные признаки\n",
    "    for i in range(x_cat.shape[1]):\n",
    "        x_cat_perm = x_cat.clone()\n",
    "        x_cat_perm[:, i] = x_cat_perm[torch.randperm(len(x_cat_perm)), i]\n",
    "        with torch.no_grad():\n",
    "            preds = torch.sigmoid(model(x_float, x_cat_perm)).cpu().numpy()\n",
    "        auc = roc_auc_score(y_true, preds)\n",
    "        importances.append(baseline_auc - auc)\n",
    "        if feature_names:\n",
    "            names.append(feature_names['cat'][i])\n",
    "        else:\n",
    "            names.append(f'cat_{i}')\n",
    "\n",
    "    return importances, names"
   ]
  },
  {
   "cell_type": "code",
   "execution_count": 62,
   "id": "1bd4e8c3-47eb-4b82-a1f2-5cd50b6d6c36",
   "metadata": {},
   "outputs": [
    {
     "data": {
      "image/png": "[encoded data removed]",
      "text/plain": [
       "<Figure size 1200x600 with 1 Axes>"
      ]
     },
     "metadata": {},
     "output_type": "display_data"
    }
   ],
   "source": [
    "X_cat_df = X.select_dtypes(include=['object'])\n",
    "X_float_df = X.select_dtypes(include=['float'])\n",
    "X_int_float_df = X.select_dtypes(include=['int64']).astype(np.float32)\n",
    "X_float_df = pd.concat([X_float_df, X_int_float_df], axis=1)\n",
    "\n",
    "feature_names = {\n",
    "    'float': list(X_float_df.columns),\n",
    "    'cat': list(X_cat_df.columns),\n",
    "}\n",
    "\n",
    "importances, names = permutation_importance(model, tensors, feature_names=feature_names)\n",
    "\n",
    "plt.figure(figsize=(12, 6))\n",
    "plt.barh(names, importances)\n",
    "plt.title(\"Permutation Feature Importance (Transformer)\")\n",
    "plt.xlabel(\"Падение ROC AUC при перемешивании\")\n",
    "plt.tight_layout()\n",
    "plt.show()"
   ]
  },
  {
   "cell_type": "code",
   "execution_count": null,
   "id": "0f1e9cc6-e143-406b-b41c-949fb8678703",
   "metadata": {},
   "outputs": [],
   "source": []
  }
 ],
 "metadata": {
  "kernelspec": {
   "display_name": "pip_base",
   "language": "python",
   "name": "pip_base"
  },
  "language_info": {
   "codemirror_mode": {
    "name": "ipython",
    "version": 3
   },
   "file_extension": ".py",
   "mimetype": "text/x-python",
   "name": "python",
   "nbconvert_exporter": "python",
   "pygments_lexer": "ipython3",
   "version": "3.10.12"
  }
 },
 "nbformat": 4,
 "nbformat_minor": 5
}
